{
  "nbformat": 4,
  "nbformat_minor": 0,
  "metadata": {
    "colab": {
      "name": "Task 3 - Transfer Learning.ipynb",
      "provenance": [],
      "collapsed_sections": []
    },
    "kernelspec": {
      "name": "python3",
      "display_name": "Python 3"
    },
    "accelerator": "GPU"
  },
  "cells": [
    {
      "cell_type": "markdown",
      "metadata": {
        "id": "E2YTrMg0nDAU",
        "colab_type": "text"
      },
      "source": [
        "# Transfer Learning"
      ]
    },
    {
      "cell_type": "code",
      "metadata": {
        "id": "D38U5UpmMGcn",
        "colab_type": "code",
        "colab": {}
      },
      "source": [
        "import tensorflow as tf\n",
        "import tensorflow.keras as keras\n",
        "from tensorflow.keras.layers import Dense,Flatten,Conv2D,Dropout,MaxPool2D\n",
        "from tensorflow.keras.models import Sequential\n",
        "import numpy as np\n",
        "import os\n",
        "from datetime import datetime"
      ],
      "execution_count": null,
      "outputs": []
    },
    {
      "cell_type": "code",
      "metadata": {
        "id": "F0HhV6UDMOdZ",
        "colab_type": "code",
        "colab": {}
      },
      "source": [
        "%load_ext tensorboard"
      ],
      "execution_count": null,
      "outputs": []
    },
    {
      "cell_type": "markdown",
      "metadata": {
        "id": "aQgEWZoZNujp",
        "colab_type": "text"
      },
      "source": [
        "## Same Distribution"
      ]
    },
    {
      "cell_type": "code",
      "metadata": {
        "id": "KpOIJWy6MRir",
        "colab_type": "code",
        "colab": {
          "base_uri": "https://localhost:8080/",
          "height": 35
        },
        "outputId": "f7f6a720-33c5-4a04-9bf3-a7f83ab5ad28"
      },
      "source": [
        "mnist = keras.datasets.mnist\n",
        "(x_train,y_train),(x_test,y_test) = mnist.load_data()\n",
        "print(y_train[:5])"
      ],
      "execution_count": null,
      "outputs": [
        {
          "output_type": "stream",
          "text": [
            "[5 0 4 1 9]\n"
          ],
          "name": "stdout"
        }
      ]
    },
    {
      "cell_type": "code",
      "metadata": {
        "id": "sBpbiK1INxix",
        "colab_type": "code",
        "colab": {}
      },
      "source": [
        "def count(array):\n",
        "  counters = {0:0, 1:0, 2:0, 3:0, 4:0,\n",
        "           5:0, 6:0, 7:0, 8:0, 9:0}\n",
        "  for i in range(len(array)):\n",
        "    counters[array[i]] += 1\n",
        "  print(counters)"
      ],
      "execution_count": null,
      "outputs": []
    },
    {
      "cell_type": "code",
      "metadata": {
        "id": "yZvG2QXMMWOr",
        "colab_type": "code",
        "colab": {}
      },
      "source": [
        "def split_data(x_train,y_train):\n",
        "  x_source = []\n",
        "  y_source = []\n",
        "  x_target = []\n",
        "  y_target = []\n",
        "  dictionary = {7:0, 8:1, 9:2}\n",
        "  for i in range (len(y_train)):\n",
        "      if (y_train[i] == 9) or (y_train[i] == 8) or (y_train[i] == 7) :\n",
        "          x_target.append(x_train[i])\n",
        "          y_target.append(dictionary[y_train[i]])\n",
        "      else:\n",
        "          x_source.append(x_train[i])\n",
        "          y_source.append(y_train[i])\n",
        "  x_target = np.array(x_target)\n",
        "  x_source = np.array(x_source)\n",
        "  y_source = np.array(y_source)\n",
        "  y_target = np.array(y_target)\n",
        "  return x_source,y_source,x_target,y_target"
      ],
      "execution_count": null,
      "outputs": []
    },
    {
      "cell_type": "code",
      "metadata": {
        "id": "FzmNrgwVPcNE",
        "colab_type": "code",
        "colab": {
          "base_uri": "https://localhost:8080/",
          "height": 515
        },
        "outputId": "bf624a9a-1dee-4a9b-d45b-647b1b6cc95f"
      },
      "source": [
        "x_source_train,y_source_train,x_target_train,y_target_train = split_data(x_train,y_train)\n",
        "x_source_test,y_source_test,x_target_test,y_target_test = split_data(x_test,y_test)\n",
        "y_source_train,y_target_train = tf.keras.utils.to_categorical(y_source_train,7),tf.keras.utils.to_categorical(y_target_train,3)\n",
        "y_source_test,y_target_test = tf.keras.utils.to_categorical(y_source_test,7),tf.keras.utils.to_categorical(y_target_test,3)\n",
        "\n",
        "print(y_source_train)\n",
        "print(y_target_train)\n",
        "print(y_source_test)\n",
        "print(y_target_test)"
      ],
      "execution_count": null,
      "outputs": [
        {
          "output_type": "stream",
          "text": [
            "[[0. 0. 0. ... 0. 1. 0.]\n",
            " [1. 0. 0. ... 0. 0. 0.]\n",
            " [0. 0. 0. ... 1. 0. 0.]\n",
            " ...\n",
            " [0. 0. 0. ... 0. 0. 0.]\n",
            " [0. 0. 0. ... 0. 1. 0.]\n",
            " [0. 0. 0. ... 0. 0. 1.]]\n",
            "[[0. 0. 1.]\n",
            " [1. 0. 0.]\n",
            " [0. 1. 0.]\n",
            " ...\n",
            " [0. 0. 1.]\n",
            " [0. 1. 0.]\n",
            " [0. 1. 0.]]\n",
            "[[0. 0. 1. ... 0. 0. 0.]\n",
            " [0. 1. 0. ... 0. 0. 0.]\n",
            " [1. 0. 0. ... 0. 0. 0.]\n",
            " ...\n",
            " [0. 0. 0. ... 1. 0. 0.]\n",
            " [0. 0. 0. ... 0. 1. 0.]\n",
            " [0. 0. 0. ... 0. 0. 1.]]\n",
            "[[1. 0. 0.]\n",
            " [0. 0. 1.]\n",
            " [0. 0. 1.]\n",
            " ...\n",
            " [1. 0. 0.]\n",
            " [0. 1. 0.]\n",
            " [0. 0. 1.]]\n"
          ],
          "name": "stdout"
        }
      ]
    },
    {
      "cell_type": "code",
      "metadata": {
        "id": "1h-r8E8pMa9O",
        "colab_type": "code",
        "colab": {}
      },
      "source": [
        "data = tf.data.Dataset.from_tensor_slices((x_train.reshape([-1, 28, 28, 1]).astype(np.float32) / 255,\n",
        "                                          y_train.astype(np.int32)))\n",
        "data = data.shuffle(buffer_size=60000).batch(64)\n",
        "\n",
        "test_data = tf.data.Dataset.from_tensor_slices((x_test.reshape([-1, 28, 28, 1]).astype(np.float32) / 255,\n",
        "                                          y_test.astype(np.int32)))\n",
        "test_data = test_data.batch(64)\n",
        "\n",
        "source_data = tf.data.Dataset.from_tensor_slices((x_source_train.reshape([-1, 28, 28, 1]).astype(np.float32) / 255,\n",
        "                                                  y_source_train.astype(np.int32)))\n",
        "source_data = source_data.shuffle(buffer_size=60000).batch(64)\n",
        "\n",
        "source_test_data = tf.data.Dataset.from_tensor_slices((x_source_test.reshape([-1, 28, 28, 1]).astype(np.float32) / 255,\n",
        "                                                        y_source_test.astype(np.int32)))\n",
        "source_test_data = source_test_data.batch(64)\n",
        "\n",
        "target_data = tf.data.Dataset.from_tensor_slices((x_target_train.reshape([-1, 28, 28, 1]).astype(np.float32) / 255,\n",
        "                                                  y_target_train.astype(np.int32)))\n",
        "target_data = target_data.batch(64)\n",
        "\n",
        "target_test_data = tf.data.Dataset.from_tensor_slices((x_target_test.reshape([-1, 28, 28, 1]).astype(np.float32) / 255,\n",
        "                                                        y_target_test.astype(np.int32)))\n",
        "target_test_data = target_test_data.batch(64)"
      ],
      "execution_count": null,
      "outputs": []
    },
    {
      "cell_type": "code",
      "metadata": {
        "id": "UrQfRmFSV_b_",
        "colab_type": "code",
        "colab": {
          "base_uri": "https://localhost:8080/",
          "height": 479
        },
        "outputId": "22d2159f-2f13-4325-efd9-0d42ac58fb81"
      },
      "source": [
        "source_model=Sequential([Conv2D(16,(3,3),padding='same',activation='relu',input_shape=(28,28,1)),\n",
        "                        MaxPool2D(),\n",
        "                  Conv2D(32,(3,3),padding='same',activation='relu'),\n",
        "                  MaxPool2D(),\n",
        "                  Conv2D(64,(3,3),padding='same'),\n",
        "                  MaxPool2D(),\n",
        "                  Flatten(),\n",
        "                  Dense(128),\n",
        "                  Dense(7)])\n",
        "loss_fn = keras.losses.CategoricalCrossentropy(from_logits=True)\n",
        "opt = keras.optimizers.Adam(learning_rate=0.001)\n",
        "training_accuracy = keras.metrics.SparseCategoricalAccuracy()\n",
        "validation_accuracy = keras.metrics.SparseCategoricalAccuracy()\n",
        "source_model.summary()"
      ],
      "execution_count": null,
      "outputs": [
        {
          "output_type": "stream",
          "text": [
            "Model: \"sequential_4\"\n",
            "_________________________________________________________________\n",
            "Layer (type)                 Output Shape              Param #   \n",
            "=================================================================\n",
            "conv2d_6 (Conv2D)            (None, 28, 28, 16)        160       \n",
            "_________________________________________________________________\n",
            "max_pooling2d_6 (MaxPooling2 (None, 14, 14, 16)        0         \n",
            "_________________________________________________________________\n",
            "conv2d_7 (Conv2D)            (None, 14, 14, 32)        4640      \n",
            "_________________________________________________________________\n",
            "max_pooling2d_7 (MaxPooling2 (None, 7, 7, 32)          0         \n",
            "_________________________________________________________________\n",
            "conv2d_8 (Conv2D)            (None, 7, 7, 64)          18496     \n",
            "_________________________________________________________________\n",
            "max_pooling2d_8 (MaxPooling2 (None, 3, 3, 64)          0         \n",
            "_________________________________________________________________\n",
            "flatten_2 (Flatten)          (None, 576)               0         \n",
            "_________________________________________________________________\n",
            "dense_6 (Dense)              (None, 128)               73856     \n",
            "_________________________________________________________________\n",
            "dense_7 (Dense)              (None, 7)                 903       \n",
            "=================================================================\n",
            "Total params: 98,055\n",
            "Trainable params: 98,055\n",
            "Non-trainable params: 0\n",
            "_________________________________________________________________\n"
          ],
          "name": "stdout"
        }
      ]
    },
    {
      "cell_type": "markdown",
      "metadata": {
        "id": "mg6eX6EqoD4X",
        "colab_type": "text"
      },
      "source": [
        "### Training a model with source Data"
      ]
    },
    {
      "cell_type": "code",
      "metadata": {
        "id": "ZI1Spf2pWucK",
        "colab_type": "code",
        "colab": {
          "base_uri": "https://localhost:8080/",
          "height": 428
        },
        "outputId": "49262027-5457-4fa8-fe0f-35c710874b57"
      },
      "source": [
        "logdir = \"logs/source_training\"\n",
        "tensorboard_callback = tf.keras.callbacks.TensorBoard(logdir, histogram_freq=1)\n",
        "source_model.compile(optimizer=opt,loss=loss_fn,metrics=[\"accuracy\"])\n",
        "source_model.fit(source_data,epochs = 10,validation_data = (source_test_data),callbacks=[tensorboard_callback])"
      ],
      "execution_count": null,
      "outputs": [
        {
          "output_type": "stream",
          "text": [
            "Epoch 1/10\n",
            "  2/656 [..............................] - ETA: 16s - loss: 1.9499 - accuracy: 0.1875WARNING:tensorflow:Callbacks method `on_train_batch_end` is slow compared to the batch time (batch time: 0.0065s vs `on_train_batch_end` time: 0.0440s). Check your callbacks.\n",
            "656/656 [==============================] - 3s 4ms/step - loss: 0.1274 - accuracy: 0.9604 - val_loss: 0.0277 - val_accuracy: 0.9911\n",
            "Epoch 2/10\n",
            "656/656 [==============================] - 3s 4ms/step - loss: 0.0293 - accuracy: 0.9906 - val_loss: 0.0211 - val_accuracy: 0.9943\n",
            "Epoch 3/10\n",
            "656/656 [==============================] - 3s 4ms/step - loss: 0.0212 - accuracy: 0.9937 - val_loss: 0.0177 - val_accuracy: 0.9941\n",
            "Epoch 4/10\n",
            "656/656 [==============================] - 3s 4ms/step - loss: 0.0156 - accuracy: 0.9951 - val_loss: 0.0301 - val_accuracy: 0.9911\n",
            "Epoch 5/10\n",
            "656/656 [==============================] - 3s 4ms/step - loss: 0.0138 - accuracy: 0.9955 - val_loss: 0.0202 - val_accuracy: 0.9940\n",
            "Epoch 6/10\n",
            "656/656 [==============================] - 3s 4ms/step - loss: 0.0108 - accuracy: 0.9966 - val_loss: 0.0254 - val_accuracy: 0.9941\n",
            "Epoch 7/10\n",
            "656/656 [==============================] - 2s 4ms/step - loss: 0.0081 - accuracy: 0.9976 - val_loss: 0.0259 - val_accuracy: 0.9930\n",
            "Epoch 8/10\n",
            "656/656 [==============================] - 3s 4ms/step - loss: 0.0076 - accuracy: 0.9974 - val_loss: 0.0213 - val_accuracy: 0.9941\n",
            "Epoch 9/10\n",
            "656/656 [==============================] - 3s 4ms/step - loss: 0.0075 - accuracy: 0.9976 - val_loss: 0.0209 - val_accuracy: 0.9934\n",
            "Epoch 10/10\n",
            "656/656 [==============================] - 2s 4ms/step - loss: 0.0071 - accuracy: 0.9974 - val_loss: 0.0264 - val_accuracy: 0.9936\n"
          ],
          "name": "stdout"
        },
        {
          "output_type": "execute_result",
          "data": {
            "text/plain": [
              "<tensorflow.python.keras.callbacks.History at 0x7fa59c7203c8>"
            ]
          },
          "metadata": {
            "tags": []
          },
          "execution_count": 28
        }
      ]
    },
    {
      "cell_type": "markdown",
      "metadata": {
        "id": "s1i4cWwZwA31",
        "colab_type": "text"
      },
      "source": [
        "### Transfer learning in the target data"
      ]
    },
    {
      "cell_type": "markdown",
      "metadata": {
        "id": "ks_jQ6SgoBb4",
        "colab_type": "text"
      },
      "source": [
        "#### Replacing the final classification layer"
      ]
    },
    {
      "cell_type": "code",
      "metadata": {
        "id": "lxUpOaPxn8tt",
        "colab_type": "code",
        "colab": {
          "base_uri": "https://localhost:8080/",
          "height": 479
        },
        "outputId": "b760b811-f92e-460f-8aff-0b1e338d03ac"
      },
      "source": [
        "target_model = Sequential()\n",
        "for layer in source_model.layers[:-1]:\n",
        "  target_model.add(layer)\n",
        "target_model.add(Dense(3))\n",
        "loss_fn = keras.losses.CategoricalCrossentropy(from_logits=True)\n",
        "opt = keras.optimizers.Adam(learning_rate=0.001)\n",
        "training_accuracy = keras.metrics.SparseCategoricalAccuracy()\n",
        "validation_accuracy = keras.metrics.SparseCategoricalAccuracy()\n",
        "target_model.summary()"
      ],
      "execution_count": null,
      "outputs": [
        {
          "output_type": "stream",
          "text": [
            "Model: \"sequential_5\"\n",
            "_________________________________________________________________\n",
            "Layer (type)                 Output Shape              Param #   \n",
            "=================================================================\n",
            "conv2d_6 (Conv2D)            (None, 28, 28, 16)        160       \n",
            "_________________________________________________________________\n",
            "max_pooling2d_6 (MaxPooling2 (None, 14, 14, 16)        0         \n",
            "_________________________________________________________________\n",
            "conv2d_7 (Conv2D)            (None, 14, 14, 32)        4640      \n",
            "_________________________________________________________________\n",
            "max_pooling2d_7 (MaxPooling2 (None, 7, 7, 32)          0         \n",
            "_________________________________________________________________\n",
            "conv2d_8 (Conv2D)            (None, 7, 7, 64)          18496     \n",
            "_________________________________________________________________\n",
            "max_pooling2d_8 (MaxPooling2 (None, 3, 3, 64)          0         \n",
            "_________________________________________________________________\n",
            "flatten_2 (Flatten)          (None, 576)               0         \n",
            "_________________________________________________________________\n",
            "dense_6 (Dense)              (None, 128)               73856     \n",
            "_________________________________________________________________\n",
            "dense_8 (Dense)              (None, 3)                 387       \n",
            "=================================================================\n",
            "Total params: 97,539\n",
            "Trainable params: 97,539\n",
            "Non-trainable params: 0\n",
            "_________________________________________________________________\n"
          ],
          "name": "stdout"
        }
      ]
    },
    {
      "cell_type": "markdown",
      "metadata": {
        "id": "mYU6-rAAvNte",
        "colab_type": "text"
      },
      "source": [
        ""
      ]
    },
    {
      "cell_type": "code",
      "metadata": {
        "id": "a9TkiRBpvIoX",
        "colab_type": "code",
        "colab": {
          "base_uri": "https://localhost:8080/",
          "height": 428
        },
        "outputId": "5d59de11-1791-48b6-8155-ca83a82dc8ba"
      },
      "source": [
        "logdir = \"logs/target_transfer_Learning\"\n",
        "tensorboard_callback = tf.keras.callbacks.TensorBoard(logdir, histogram_freq=1)\n",
        "target_model.compile(optimizer=opt,loss=loss_fn,metrics=[\"accuracy\"])\n",
        "target_model.fit(target_data,epochs = 10,validation_data = (target_test_data),callbacks=[tensorboard_callback])"
      ],
      "execution_count": null,
      "outputs": [
        {
          "output_type": "stream",
          "text": [
            "Epoch 1/10\n",
            "  2/283 [..............................] - ETA: 7s - loss: 0.9410 - accuracy: 0.5391WARNING:tensorflow:Callbacks method `on_train_batch_end` is slow compared to the batch time (batch time: 0.0059s vs `on_train_batch_end` time: 0.0476s). Check your callbacks.\n",
            "283/283 [==============================] - 1s 4ms/step - loss: 0.0555 - accuracy: 0.9817 - val_loss: 0.0212 - val_accuracy: 0.9927\n",
            "Epoch 2/10\n",
            "283/283 [==============================] - 1s 4ms/step - loss: 0.0168 - accuracy: 0.9946 - val_loss: 0.0173 - val_accuracy: 0.9940\n",
            "Epoch 3/10\n",
            "283/283 [==============================] - 1s 4ms/step - loss: 0.0089 - accuracy: 0.9973 - val_loss: 0.0133 - val_accuracy: 0.9950\n",
            "Epoch 4/10\n",
            "283/283 [==============================] - 1s 4ms/step - loss: 0.0045 - accuracy: 0.9986 - val_loss: 0.0143 - val_accuracy: 0.9954\n",
            "Epoch 5/10\n",
            "283/283 [==============================] - 1s 4ms/step - loss: 0.0022 - accuracy: 0.9994 - val_loss: 0.0193 - val_accuracy: 0.9944\n",
            "Epoch 6/10\n",
            "283/283 [==============================] - 1s 4ms/step - loss: 0.0050 - accuracy: 0.9986 - val_loss: 0.0211 - val_accuracy: 0.9930\n",
            "Epoch 7/10\n",
            "283/283 [==============================] - 1s 4ms/step - loss: 0.0047 - accuracy: 0.9984 - val_loss: 0.0240 - val_accuracy: 0.9940\n",
            "Epoch 8/10\n",
            "283/283 [==============================] - 1s 4ms/step - loss: 0.0046 - accuracy: 0.9985 - val_loss: 0.0192 - val_accuracy: 0.9954\n",
            "Epoch 9/10\n",
            "283/283 [==============================] - 1s 4ms/step - loss: 0.0026 - accuracy: 0.9994 - val_loss: 0.0384 - val_accuracy: 0.9910\n",
            "Epoch 10/10\n",
            "283/283 [==============================] - 1s 4ms/step - loss: 0.0017 - accuracy: 0.9995 - val_loss: 0.0169 - val_accuracy: 0.9950\n"
          ],
          "name": "stdout"
        },
        {
          "output_type": "execute_result",
          "data": {
            "text/plain": [
              "<tensorflow.python.keras.callbacks.History at 0x7fa59c461978>"
            ]
          },
          "metadata": {
            "tags": []
          },
          "execution_count": 30
        }
      ]
    },
    {
      "cell_type": "markdown",
      "metadata": {
        "id": "qHQlKGbAwHVM",
        "colab_type": "text"
      },
      "source": [
        "### learning target data from scratch"
      ]
    },
    {
      "cell_type": "code",
      "metadata": {
        "id": "n6hFvhzoyF8F",
        "colab_type": "code",
        "colab": {
          "base_uri": "https://localhost:8080/",
          "height": 479
        },
        "outputId": "5cb39212-c73c-4aa1-a464-095c25289fbf"
      },
      "source": [
        "target_scratch_model=Sequential([Conv2D(16,(3,3),padding='same',activation='relu',input_shape=(28,28,1)),\n",
        "                        MaxPool2D(),\n",
        "                  Conv2D(32,(3,3),padding='same',activation='relu'),\n",
        "                  MaxPool2D(),\n",
        "                  Conv2D(64,(3,3),padding='same'),\n",
        "                  MaxPool2D(),\n",
        "                  Flatten(),\n",
        "                  Dense(128),\n",
        "                  Dense(3)])\n",
        "loss_fn = keras.losses.CategoricalCrossentropy(from_logits=True)\n",
        "opt = keras.optimizers.Adam(learning_rate=0.001)\n",
        "target_model.summary()"
      ],
      "execution_count": null,
      "outputs": [
        {
          "output_type": "stream",
          "text": [
            "Model: \"sequential_5\"\n",
            "_________________________________________________________________\n",
            "Layer (type)                 Output Shape              Param #   \n",
            "=================================================================\n",
            "conv2d_6 (Conv2D)            (None, 28, 28, 16)        160       \n",
            "_________________________________________________________________\n",
            "max_pooling2d_6 (MaxPooling2 (None, 14, 14, 16)        0         \n",
            "_________________________________________________________________\n",
            "conv2d_7 (Conv2D)            (None, 14, 14, 32)        4640      \n",
            "_________________________________________________________________\n",
            "max_pooling2d_7 (MaxPooling2 (None, 7, 7, 32)          0         \n",
            "_________________________________________________________________\n",
            "conv2d_8 (Conv2D)            (None, 7, 7, 64)          18496     \n",
            "_________________________________________________________________\n",
            "max_pooling2d_8 (MaxPooling2 (None, 3, 3, 64)          0         \n",
            "_________________________________________________________________\n",
            "flatten_2 (Flatten)          (None, 576)               0         \n",
            "_________________________________________________________________\n",
            "dense_6 (Dense)              (None, 128)               73856     \n",
            "_________________________________________________________________\n",
            "dense_8 (Dense)              (None, 3)                 387       \n",
            "=================================================================\n",
            "Total params: 97,539\n",
            "Trainable params: 97,539\n",
            "Non-trainable params: 0\n",
            "_________________________________________________________________\n"
          ],
          "name": "stdout"
        }
      ]
    },
    {
      "cell_type": "code",
      "metadata": {
        "id": "fd7fDgmJwG_v",
        "colab_type": "code",
        "colab": {
          "base_uri": "https://localhost:8080/",
          "height": 428
        },
        "outputId": "c78a5d65-d5c5-4cf1-973f-64598e64fd55"
      },
      "source": [
        "logdir = \"logs/target_Learning\"\n",
        "tensorboard_callback = tf.keras.callbacks.TensorBoard(logdir, histogram_freq=1)\n",
        "target_scratch_model.compile(optimizer=opt,loss=loss_fn,metrics=[\"accuracy\"])\n",
        "target_scratch_model.fit(target_data,epochs = 10,validation_data = (target_test_data),callbacks=[tensorboard_callback])"
      ],
      "execution_count": null,
      "outputs": [
        {
          "output_type": "stream",
          "text": [
            "Epoch 1/10\n",
            "  2/283 [..............................] - ETA: 9s - loss: 1.0905 - accuracy: 0.3281WARNING:tensorflow:Callbacks method `on_train_batch_end` is slow compared to the batch time (batch time: 0.0068s vs `on_train_batch_end` time: 0.0623s). Check your callbacks.\n",
            "283/283 [==============================] - 1s 5ms/step - loss: 0.1374 - accuracy: 0.9508 - val_loss: 0.0298 - val_accuracy: 0.9887\n",
            "Epoch 2/10\n",
            "283/283 [==============================] - 1s 4ms/step - loss: 0.0306 - accuracy: 0.9910 - val_loss: 0.0134 - val_accuracy: 0.9947\n",
            "Epoch 3/10\n",
            "283/283 [==============================] - 1s 4ms/step - loss: 0.0182 - accuracy: 0.9945 - val_loss: 0.0130 - val_accuracy: 0.9947\n",
            "Epoch 4/10\n",
            "283/283 [==============================] - 1s 4ms/step - loss: 0.0115 - accuracy: 0.9965 - val_loss: 0.0139 - val_accuracy: 0.9944\n",
            "Epoch 5/10\n",
            "283/283 [==============================] - 1s 4ms/step - loss: 0.0078 - accuracy: 0.9977 - val_loss: 0.0123 - val_accuracy: 0.9947\n",
            "Epoch 6/10\n",
            "283/283 [==============================] - 1s 4ms/step - loss: 0.0081 - accuracy: 0.9973 - val_loss: 0.0155 - val_accuracy: 0.9937\n",
            "Epoch 7/10\n",
            "283/283 [==============================] - 1s 4ms/step - loss: 0.0041 - accuracy: 0.9987 - val_loss: 0.0302 - val_accuracy: 0.9920\n",
            "Epoch 8/10\n",
            "283/283 [==============================] - 1s 4ms/step - loss: 0.0044 - accuracy: 0.9986 - val_loss: 0.0182 - val_accuracy: 0.9934\n",
            "Epoch 9/10\n",
            "283/283 [==============================] - 1s 4ms/step - loss: 0.0078 - accuracy: 0.9970 - val_loss: 0.0355 - val_accuracy: 0.9907\n",
            "Epoch 10/10\n",
            "283/283 [==============================] - 1s 4ms/step - loss: 0.0057 - accuracy: 0.9983 - val_loss: 0.0261 - val_accuracy: 0.9917\n"
          ],
          "name": "stdout"
        },
        {
          "output_type": "execute_result",
          "data": {
            "text/plain": [
              "<tensorflow.python.keras.callbacks.History at 0x7fa5ffb21860>"
            ]
          },
          "metadata": {
            "tags": []
          },
          "execution_count": 34
        }
      ]
    },
    {
      "cell_type": "markdown",
      "metadata": {
        "id": "FySM-NYKMp2w",
        "colab_type": "text"
      },
      "source": [
        "## Different Distribution"
      ]
    },
    {
      "cell_type": "code",
      "metadata": {
        "id": "Ec0VYCbTJ5Yg",
        "colab_type": "code",
        "colab": {}
      },
      "source": [
        "mnist = keras.datasets.mnist\n",
        "fmnist = keras.datasets.fashion_mnist\n",
        "(mnist_train_images,mnist_train_labels),(mnist_test_images,mnist_test_labels) = mnist.load_data()\n",
        "(fmnist_train_images,fmnist_train_labels),(fmnist_test_images,fmnist_test_labels) = fmnist.load_data()\n",
        "\n",
        "mnist_data = tf.data.Dataset.from_tensor_slices((mnist_train_images.reshape([-1, 28, 28, 1]).astype(np.float32) / 255,\n",
        "                                          mnist_train_labels.astype(np.int32)))\n",
        "mnist_data = mnist_data.shuffle(buffer_size=60000).batch(64)\n",
        "\n",
        "mnist_test_data = tf.data.Dataset.from_tensor_slices((mnist_test_images.reshape([-1, 28, 28, 1]).astype(np.float32) / 255,\n",
        "                                          mnist_test_labels.astype(np.int32)))\n",
        "mnist_test_data = mnist_test_data.shuffle(buffer_size=60000).batch(64)\n",
        "\n",
        "fmnist_data = tf.data.Dataset.from_tensor_slices((fmnist_train_images.reshape([-1, 28, 28, 1]).astype(np.float32) / 255,\n",
        "                                          fmnist_train_labels.astype(np.int32)))\n",
        "fmnist_data = fmnist_data.shuffle(buffer_size=60000).batch(64)\n",
        "\n",
        "fmnist_test_data = tf.data.Dataset.from_tensor_slices((fmnist_test_images.reshape([-1, 28, 28, 1]).astype(np.float32) / 255,\n",
        "                                          fmnist_test_labels.astype(np.int32)))\n",
        "fmnist_test_data = fmnist_test_data.shuffle(buffer_size=60000).batch(64)"
      ],
      "execution_count": null,
      "outputs": []
    },
    {
      "cell_type": "code",
      "metadata": {
        "id": "43SGq1TFN_8C",
        "colab_type": "code",
        "colab": {}
      },
      "source": [
        "mnist_model=Sequential([Conv2D(16,(3,3),padding='same',activation='relu',input_shape=(28,28,1)),\n",
        "                        MaxPool2D(),\n",
        "                  Conv2D(32,(3,3),padding='same',activation='relu'),\n",
        "                  MaxPool2D(),\n",
        "                  Conv2D(64,(3,3),padding='same'),\n",
        "                  MaxPool2D(),\n",
        "                  Flatten(),\n",
        "                  Dense(128),\n",
        "                  Dense(10)])\n",
        "loss_fn = keras.losses.SparseCategoricalCrossentropy(from_logits=True)\n",
        "opt = keras.optimizers.Adam(learning_rate=0.001)"
      ],
      "execution_count": null,
      "outputs": []
    },
    {
      "cell_type": "code",
      "metadata": {
        "id": "u61ZesERPiTV",
        "colab_type": "code",
        "colab": {
          "base_uri": "https://localhost:8080/",
          "height": 428
        },
        "outputId": "7fe6ca16-454e-453f-dda8-295cf9ba5456"
      },
      "source": [
        "logdir = \"logs/mnist_source_model\"\n",
        "tensorboard_callback = tf.keras.callbacks.TensorBoard(logdir, histogram_freq=1)\n",
        "mnist_model.compile(optimizer=opt,loss=loss_fn,metrics=[\"accuracy\"])\n",
        "mnist_model.fit(mnist_data,epochs = 10,validation_data = (mnist_test_data),callbacks=[tensorboard_callback])"
      ],
      "execution_count": null,
      "outputs": [
        {
          "output_type": "stream",
          "text": [
            "Epoch 1/10\n",
            "  2/938 [..............................] - ETA: 25s - loss: 2.3048 - accuracy: 0.0938WARNING:tensorflow:Callbacks method `on_train_batch_end` is slow compared to the batch time (batch time: 0.0077s vs `on_train_batch_end` time: 0.0476s). Check your callbacks.\n",
            "938/938 [==============================] - 4s 4ms/step - loss: 0.1702 - accuracy: 0.9474 - val_loss: 0.0493 - val_accuracy: 0.9843\n",
            "Epoch 2/10\n",
            "938/938 [==============================] - 4s 4ms/step - loss: 0.0524 - accuracy: 0.9841 - val_loss: 0.0370 - val_accuracy: 0.9897\n",
            "Epoch 3/10\n",
            "938/938 [==============================] - 4s 4ms/step - loss: 0.0353 - accuracy: 0.9888 - val_loss: 0.0363 - val_accuracy: 0.9879\n",
            "Epoch 4/10\n",
            "938/938 [==============================] - 4s 4ms/step - loss: 0.0280 - accuracy: 0.9910 - val_loss: 0.0283 - val_accuracy: 0.9902\n",
            "Epoch 5/10\n",
            "938/938 [==============================] - 3s 4ms/step - loss: 0.0224 - accuracy: 0.9926 - val_loss: 0.0354 - val_accuracy: 0.9891\n",
            "Epoch 6/10\n",
            "938/938 [==============================] - 3s 4ms/step - loss: 0.0199 - accuracy: 0.9933 - val_loss: 0.0392 - val_accuracy: 0.9873\n",
            "Epoch 7/10\n",
            "938/938 [==============================] - 3s 4ms/step - loss: 0.0170 - accuracy: 0.9946 - val_loss: 0.0414 - val_accuracy: 0.9878\n",
            "Epoch 8/10\n",
            "938/938 [==============================] - 3s 4ms/step - loss: 0.0139 - accuracy: 0.9955 - val_loss: 0.0386 - val_accuracy: 0.9884\n",
            "Epoch 9/10\n",
            "938/938 [==============================] - 4s 4ms/step - loss: 0.0142 - accuracy: 0.9954 - val_loss: 0.0519 - val_accuracy: 0.9850\n",
            "Epoch 10/10\n",
            "938/938 [==============================] - 4s 4ms/step - loss: 0.0107 - accuracy: 0.9964 - val_loss: 0.0443 - val_accuracy: 0.9884\n"
          ],
          "name": "stdout"
        },
        {
          "output_type": "execute_result",
          "data": {
            "text/plain": [
              "<tensorflow.python.keras.callbacks.History at 0x7fa59c1958d0>"
            ]
          },
          "metadata": {
            "tags": []
          },
          "execution_count": 43
        }
      ]
    },
    {
      "cell_type": "code",
      "metadata": {
        "id": "McYvOS7uUJQ-",
        "colab_type": "code",
        "colab": {}
      },
      "source": [
        "fmnist_model = Sequential([Conv2D(16,(3,3),padding='same',activation='relu',input_shape=(28,28,1)),\n",
        "                        MaxPool2D(),\n",
        "                  Conv2D(32,(3,3),padding='same',activation='relu'),\n",
        "                  MaxPool2D(),\n",
        "                  Conv2D(64,(3,3),padding='same'),\n",
        "                  MaxPool2D(),\n",
        "                  Flatten(),\n",
        "                  Dense(128),\n",
        "                  Dense(10)])\n",
        "loss_fn = keras.losses.SparseCategoricalCrossentropy(from_logits=True)\n",
        "opt = keras.optimizers.Adam(learning_rate=0.001)"
      ],
      "execution_count": null,
      "outputs": []
    },
    {
      "cell_type": "code",
      "metadata": {
        "id": "A63-HQBXUXGD",
        "colab_type": "code",
        "colab": {
          "base_uri": "https://localhost:8080/",
          "height": 784
        },
        "outputId": "de0ccaa4-0ff0-4cd3-db60-82f102e44888"
      },
      "source": [
        "logdir = \"logs/fmnist_target_model\"\n",
        "tensorboard_callback = tf.keras.callbacks.TensorBoard(logdir, histogram_freq=1)\n",
        "fmnist_model.compile(optimizer=opt,loss=loss_fn,metrics=[\"accuracy\"])\n",
        "fmnist_model.fit(fmnist_data,epochs = 20,validation_data = (fmnist_test_data),callbacks=[tensorboard_callback])"
      ],
      "execution_count": null,
      "outputs": [
        {
          "output_type": "stream",
          "text": [
            "Epoch 1/20\n",
            "  2/938 [..............................] - ETA: 28s - loss: 2.2957 - accuracy: 0.1328WARNING:tensorflow:Callbacks method `on_train_batch_end` is slow compared to the batch time (batch time: 0.0064s vs `on_train_batch_end` time: 0.0530s). Check your callbacks.\n",
            "938/938 [==============================] - 4s 4ms/step - loss: 0.4738 - accuracy: 0.8298 - val_loss: 0.3953 - val_accuracy: 0.8579\n",
            "Epoch 2/20\n",
            "938/938 [==============================] - 4s 4ms/step - loss: 0.3065 - accuracy: 0.8887 - val_loss: 0.3102 - val_accuracy: 0.8870\n",
            "Epoch 3/20\n",
            "938/938 [==============================] - 3s 4ms/step - loss: 0.2646 - accuracy: 0.9041 - val_loss: 0.3003 - val_accuracy: 0.8915\n",
            "Epoch 4/20\n",
            "938/938 [==============================] - 4s 4ms/step - loss: 0.2389 - accuracy: 0.9123 - val_loss: 0.2708 - val_accuracy: 0.9038\n",
            "Epoch 5/20\n",
            "938/938 [==============================] - 3s 4ms/step - loss: 0.2199 - accuracy: 0.9202 - val_loss: 0.2671 - val_accuracy: 0.9068\n",
            "Epoch 6/20\n",
            "938/938 [==============================] - 3s 4ms/step - loss: 0.2003 - accuracy: 0.9273 - val_loss: 0.2856 - val_accuracy: 0.9018\n",
            "Epoch 7/20\n",
            "938/938 [==============================] - 3s 4ms/step - loss: 0.1872 - accuracy: 0.9316 - val_loss: 0.2584 - val_accuracy: 0.9084\n",
            "Epoch 8/20\n",
            "938/938 [==============================] - 3s 4ms/step - loss: 0.1726 - accuracy: 0.9369 - val_loss: 0.2648 - val_accuracy: 0.9104\n",
            "Epoch 9/20\n",
            "938/938 [==============================] - 3s 4ms/step - loss: 0.1641 - accuracy: 0.9402 - val_loss: 0.2746 - val_accuracy: 0.9073\n",
            "Epoch 10/20\n",
            "938/938 [==============================] - 3s 4ms/step - loss: 0.1537 - accuracy: 0.9431 - val_loss: 0.2947 - val_accuracy: 0.9067\n",
            "Epoch 11/20\n",
            "938/938 [==============================] - 4s 4ms/step - loss: 0.1450 - accuracy: 0.9467 - val_loss: 0.2829 - val_accuracy: 0.9108\n",
            "Epoch 12/20\n",
            "938/938 [==============================] - 3s 4ms/step - loss: 0.1351 - accuracy: 0.9502 - val_loss: 0.3047 - val_accuracy: 0.9066\n",
            "Epoch 13/20\n",
            "938/938 [==============================] - 3s 4ms/step - loss: 0.1273 - accuracy: 0.9530 - val_loss: 0.2943 - val_accuracy: 0.9081\n",
            "Epoch 14/20\n",
            "938/938 [==============================] - 3s 4ms/step - loss: 0.1182 - accuracy: 0.9567 - val_loss: 0.3083 - val_accuracy: 0.9107\n",
            "Epoch 15/20\n",
            "938/938 [==============================] - 3s 4ms/step - loss: 0.1120 - accuracy: 0.9590 - val_loss: 0.3228 - val_accuracy: 0.9078\n",
            "Epoch 16/20\n",
            "938/938 [==============================] - 3s 4ms/step - loss: 0.1058 - accuracy: 0.9609 - val_loss: 0.3296 - val_accuracy: 0.9095\n",
            "Epoch 17/20\n",
            "938/938 [==============================] - 4s 4ms/step - loss: 0.0972 - accuracy: 0.9643 - val_loss: 0.3388 - val_accuracy: 0.9094\n",
            "Epoch 18/20\n",
            "938/938 [==============================] - 4s 4ms/step - loss: 0.0926 - accuracy: 0.9656 - val_loss: 0.3520 - val_accuracy: 0.9078\n",
            "Epoch 19/20\n",
            "938/938 [==============================] - 3s 4ms/step - loss: 0.0888 - accuracy: 0.9670 - val_loss: 0.3670 - val_accuracy: 0.9063\n",
            "Epoch 20/20\n",
            "938/938 [==============================] - 3s 4ms/step - loss: 0.0829 - accuracy: 0.9699 - val_loss: 0.3905 - val_accuracy: 0.9044\n"
          ],
          "name": "stdout"
        },
        {
          "output_type": "execute_result",
          "data": {
            "text/plain": [
              "<tensorflow.python.keras.callbacks.History at 0x7fa5628a8ef0>"
            ]
          },
          "metadata": {
            "tags": []
          },
          "execution_count": 63
        }
      ]
    },
    {
      "cell_type": "markdown",
      "metadata": {
        "id": "Ej-SkAHAVLYC",
        "colab_type": "text"
      },
      "source": [
        "### Transfer Learning fmnist\n",
        "\n",
        "replacing only the classification layer and all weights are trainable"
      ]
    },
    {
      "cell_type": "code",
      "metadata": {
        "id": "SNdatHrXVKqi",
        "colab_type": "code",
        "colab": {}
      },
      "source": [
        "fmnist_transfer_model = Sequential()\n",
        "\n",
        "for layer in mnist_model.layers[:-1]:\n",
        "  fmnist_transfer_model.add(layer)\n",
        "\n",
        "fmnist_transfer_model.add(Dense(10,activation=\"softmax\"))\n",
        "\n",
        "loss_fn = keras.losses.SparseCategoricalCrossentropy(from_logits=True)\n",
        "opt = keras.optimizers.Adam(learning_rate=0.001)"
      ],
      "execution_count": null,
      "outputs": []
    },
    {
      "cell_type": "code",
      "metadata": {
        "id": "cB7Ldyc4YN8h",
        "colab_type": "code",
        "colab": {
          "base_uri": "https://localhost:8080/",
          "height": 784
        },
        "outputId": "2fd3704e-f7cc-4abf-c1b0-002bbf9e7ba0"
      },
      "source": [
        "logdir = \"logs/fmnist_transfer_learning_all_trainable\"\n",
        "tensorboard_callback = tf.keras.callbacks.TensorBoard(logdir, histogram_freq=1)\n",
        "fmnist_transfer_model.compile(optimizer=opt,loss=loss_fn,metrics=[\"accuracy\"])\n",
        "fmnist_transfer_model.fit(fmnist_data,epochs = 20,validation_data = (fmnist_test_data),callbacks=[tensorboard_callback])"
      ],
      "execution_count": null,
      "outputs": [
        {
          "output_type": "stream",
          "text": [
            "Epoch 1/20\n",
            "  2/938 [..............................] - ETA: 26s - loss: 2.2378 - accuracy: 0.2109WARNING:tensorflow:Callbacks method `on_train_batch_end` is slow compared to the batch time (batch time: 0.0074s vs `on_train_batch_end` time: 0.0484s). Check your callbacks.\n",
            "938/938 [==============================] - 4s 4ms/step - loss: 1.7126 - accuracy: 0.7473 - val_loss: 1.6368 - val_accuracy: 0.8238\n",
            "Epoch 2/20\n",
            "938/938 [==============================] - 3s 4ms/step - loss: 1.6155 - accuracy: 0.8453 - val_loss: 1.6372 - val_accuracy: 0.8235\n",
            "Epoch 3/20\n",
            "938/938 [==============================] - 3s 4ms/step - loss: 1.6159 - accuracy: 0.8450 - val_loss: 1.6350 - val_accuracy: 0.8254\n",
            "Epoch 4/20\n",
            "938/938 [==============================] - 3s 4ms/step - loss: 1.6157 - accuracy: 0.8450 - val_loss: 1.6388 - val_accuracy: 0.8218\n",
            "Epoch 5/20\n",
            "938/938 [==============================] - 4s 4ms/step - loss: 1.6148 - accuracy: 0.8461 - val_loss: 1.6408 - val_accuracy: 0.8194\n",
            "Epoch 6/20\n",
            "938/938 [==============================] - 4s 4ms/step - loss: 1.6140 - accuracy: 0.8470 - val_loss: 1.6404 - val_accuracy: 0.8202\n",
            "Epoch 7/20\n",
            "938/938 [==============================] - 3s 4ms/step - loss: 1.6163 - accuracy: 0.8446 - val_loss: 1.6411 - val_accuracy: 0.8194\n",
            "Epoch 8/20\n",
            "938/938 [==============================] - 4s 4ms/step - loss: 1.6162 - accuracy: 0.8446 - val_loss: 1.6403 - val_accuracy: 0.8205\n",
            "Epoch 9/20\n",
            "938/938 [==============================] - 4s 4ms/step - loss: 1.6163 - accuracy: 0.8445 - val_loss: 1.6387 - val_accuracy: 0.8220\n",
            "Epoch 10/20\n",
            "938/938 [==============================] - 3s 4ms/step - loss: 1.6164 - accuracy: 0.8445 - val_loss: 1.6341 - val_accuracy: 0.8270\n",
            "Epoch 11/20\n",
            "938/938 [==============================] - 4s 4ms/step - loss: 1.6148 - accuracy: 0.8461 - val_loss: 1.6343 - val_accuracy: 0.8267\n",
            "Epoch 12/20\n",
            "938/938 [==============================] - 3s 4ms/step - loss: 1.6181 - accuracy: 0.8429 - val_loss: 1.6450 - val_accuracy: 0.8161\n",
            "Epoch 13/20\n",
            "938/938 [==============================] - 3s 4ms/step - loss: 1.6174 - accuracy: 0.8435 - val_loss: 1.6396 - val_accuracy: 0.8216\n",
            "Epoch 14/20\n",
            "938/938 [==============================] - 3s 4ms/step - loss: 1.6173 - accuracy: 0.8436 - val_loss: 1.6467 - val_accuracy: 0.8147\n",
            "Epoch 15/20\n",
            "938/938 [==============================] - 3s 4ms/step - loss: 1.6183 - accuracy: 0.8428 - val_loss: 1.6368 - val_accuracy: 0.8242\n",
            "Epoch 16/20\n",
            "938/938 [==============================] - 4s 4ms/step - loss: 1.6190 - accuracy: 0.8421 - val_loss: 1.6378 - val_accuracy: 0.8232\n",
            "Epoch 17/20\n",
            "938/938 [==============================] - 4s 4ms/step - loss: 1.6210 - accuracy: 0.8399 - val_loss: 1.6567 - val_accuracy: 0.8044\n",
            "Epoch 18/20\n",
            "938/938 [==============================] - 4s 4ms/step - loss: 1.6225 - accuracy: 0.8385 - val_loss: 1.6407 - val_accuracy: 0.8203\n",
            "Epoch 19/20\n",
            "938/938 [==============================] - 3s 4ms/step - loss: 1.6205 - accuracy: 0.8406 - val_loss: 1.6393 - val_accuracy: 0.8219\n",
            "Epoch 20/20\n",
            "938/938 [==============================] - 4s 4ms/step - loss: 1.6198 - accuracy: 0.8411 - val_loss: 1.6391 - val_accuracy: 0.8218\n"
          ],
          "name": "stdout"
        },
        {
          "output_type": "execute_result",
          "data": {
            "text/plain": [
              "<tensorflow.python.keras.callbacks.History at 0x7fa5617887f0>"
            ]
          },
          "metadata": {
            "tags": []
          },
          "execution_count": 65
        }
      ]
    },
    {
      "cell_type": "markdown",
      "metadata": {
        "id": "hHNsyolXdS8z",
        "colab_type": "text"
      },
      "source": [
        "## Different Transfer Learning approaches"
      ]
    },
    {
      "cell_type": "markdown",
      "metadata": {
        "id": "JTYaxLt8ekNM",
        "colab_type": "text"
      },
      "source": [
        "### Freezing all pre-trained layers"
      ]
    },
    {
      "cell_type": "code",
      "metadata": {
        "id": "cbx6Dyt2dXhA",
        "colab_type": "code",
        "colab": {}
      },
      "source": [
        "frozen_pretrained_model = Sequential()\n",
        "\n",
        "for layer in mnist_model.layers[:-1]:\n",
        "  frozen_pretrained_model.add(layer)\n",
        "\n",
        "for layer in frozen_pretrained_model:\n",
        "  layer.trainable = False\n",
        "\n",
        "frozen_pretrained_model.add(Dense(10))\n",
        "loss_fn = keras.losses.SparseCategoricalCrossentropy(from_logits=True)\n",
        "opt = keras.optimizers.Adam(learning_rate=0.001)"
      ],
      "execution_count": null,
      "outputs": []
    },
    {
      "cell_type": "code",
      "metadata": {
        "id": "Tvvtqer3hNCn",
        "colab_type": "code",
        "colab": {
          "base_uri": "https://localhost:8080/",
          "height": 784
        },
        "outputId": "fde3271a-a1db-4676-ec22-4f0e5a6e500c"
      },
      "source": [
        "logdir = \"logs/frozen_pre_trained_layer\"\n",
        "tensorboard_callback = tf.keras.callbacks.TensorBoard(logdir, histogram_freq=1)\n",
        "frozen_pretrained_model.compile(optimizer=opt,loss=loss_fn,metrics=[\"accuracy\"])\n",
        "frozen_pretrained_model.fit(fmnist_data,epochs = 20,validation_data = (fmnist_test_data),callbacks=[tensorboard_callback])"
      ],
      "execution_count": null,
      "outputs": [
        {
          "output_type": "stream",
          "text": [
            "Epoch 1/20\n",
            "  2/938 [..............................] - ETA: 26s - loss: 37.7833 - accuracy: 0.0000e+00WARNING:tensorflow:Callbacks method `on_train_batch_end` is slow compared to the batch time (batch time: 0.0064s vs `on_train_batch_end` time: 0.0493s). Check your callbacks.\n",
            "938/938 [==============================] - 3s 4ms/step - loss: 0.6841 - accuracy: 0.8252 - val_loss: 0.4032 - val_accuracy: 0.8581\n",
            "Epoch 2/20\n",
            "938/938 [==============================] - 3s 3ms/step - loss: 0.3341 - accuracy: 0.8825 - val_loss: 0.3536 - val_accuracy: 0.8742\n",
            "Epoch 3/20\n",
            "938/938 [==============================] - 3s 4ms/step - loss: 0.2910 - accuracy: 0.8970 - val_loss: 0.3329 - val_accuracy: 0.8801\n",
            "Epoch 4/20\n",
            "938/938 [==============================] - 3s 4ms/step - loss: 0.2649 - accuracy: 0.9058 - val_loss: 0.3171 - val_accuracy: 0.8879\n",
            "Epoch 5/20\n",
            "938/938 [==============================] - 3s 4ms/step - loss: 0.2464 - accuracy: 0.9109 - val_loss: 0.2981 - val_accuracy: 0.8925\n",
            "Epoch 6/20\n",
            "938/938 [==============================] - 3s 3ms/step - loss: 0.2305 - accuracy: 0.9178 - val_loss: 0.3068 - val_accuracy: 0.8905\n",
            "Epoch 7/20\n",
            "938/938 [==============================] - 3s 4ms/step - loss: 0.2182 - accuracy: 0.9216 - val_loss: 0.3043 - val_accuracy: 0.8939\n",
            "Epoch 8/20\n",
            "938/938 [==============================] - 3s 3ms/step - loss: 0.2049 - accuracy: 0.9265 - val_loss: 0.2909 - val_accuracy: 0.8998\n",
            "Epoch 9/20\n",
            "938/938 [==============================] - 3s 3ms/step - loss: 0.1950 - accuracy: 0.9301 - val_loss: 0.2940 - val_accuracy: 0.8984\n",
            "Epoch 10/20\n",
            "938/938 [==============================] - 3s 3ms/step - loss: 0.1850 - accuracy: 0.9330 - val_loss: 0.2850 - val_accuracy: 0.8991\n",
            "Epoch 11/20\n",
            "938/938 [==============================] - 3s 4ms/step - loss: 0.1767 - accuracy: 0.9365 - val_loss: 0.2835 - val_accuracy: 0.9039\n",
            "Epoch 12/20\n",
            "938/938 [==============================] - 3s 3ms/step - loss: 0.1687 - accuracy: 0.9398 - val_loss: 0.2881 - val_accuracy: 0.9008\n",
            "Epoch 13/20\n",
            "938/938 [==============================] - 3s 3ms/step - loss: 0.1605 - accuracy: 0.9415 - val_loss: 0.2921 - val_accuracy: 0.9014\n",
            "Epoch 14/20\n",
            "938/938 [==============================] - 3s 3ms/step - loss: 0.1535 - accuracy: 0.9449 - val_loss: 0.2960 - val_accuracy: 0.9029\n",
            "Epoch 15/20\n",
            "938/938 [==============================] - 3s 3ms/step - loss: 0.1464 - accuracy: 0.9470 - val_loss: 0.3026 - val_accuracy: 0.9005\n",
            "Epoch 16/20\n",
            "938/938 [==============================] - 3s 4ms/step - loss: 0.1375 - accuracy: 0.9514 - val_loss: 0.3079 - val_accuracy: 0.8999\n",
            "Epoch 17/20\n",
            "938/938 [==============================] - 3s 4ms/step - loss: 0.1332 - accuracy: 0.9522 - val_loss: 0.3065 - val_accuracy: 0.9018\n",
            "Epoch 18/20\n",
            "938/938 [==============================] - 3s 4ms/step - loss: 0.1264 - accuracy: 0.9547 - val_loss: 0.3069 - val_accuracy: 0.9037\n",
            "Epoch 19/20\n",
            "938/938 [==============================] - 3s 3ms/step - loss: 0.1214 - accuracy: 0.9572 - val_loss: 0.3231 - val_accuracy: 0.8990\n",
            "Epoch 20/20\n",
            "938/938 [==============================] - 3s 4ms/step - loss: 0.1144 - accuracy: 0.9585 - val_loss: 0.3365 - val_accuracy: 0.8982\n"
          ],
          "name": "stdout"
        },
        {
          "output_type": "execute_result",
          "data": {
            "text/plain": [
              "<tensorflow.python.keras.callbacks.History at 0x7fa59c1f3390>"
            ]
          },
          "metadata": {
            "tags": []
          },
          "execution_count": 68
        }
      ]
    },
    {
      "cell_type": "markdown",
      "metadata": {
        "id": "9cS59aKhjn75",
        "colab_type": "text"
      },
      "source": [
        "### freezing only some bottom layers"
      ]
    },
    {
      "cell_type": "code",
      "metadata": {
        "id": "IMdaMwaXjFD4",
        "colab_type": "code",
        "colab": {}
      },
      "source": [
        "frozen_bottom_layers = Sequential()\n",
        "for layer in mnist_model.layers[:-1]:\n",
        "  frozen_bottom_layers.add(layer)\n",
        "# Freezing the last two layers of the model\n",
        "\n",
        "for layer in frozen_bottom_layers.layers[:-3]:\n",
        "  layer.trainable = False\n",
        "\n",
        "frozen_bottom_layers.add(Dense(10,activation = \"softmax\"))\n",
        "\n",
        "loss_fn = keras.losses.SparseCategoricalCrossentropy(from_logits=True)\n",
        "opt = keras.optimizers.Adam(learning_rate=0.001)"
      ],
      "execution_count": null,
      "outputs": []
    },
    {
      "cell_type": "code",
      "metadata": {
        "id": "1V-mSdqPkyX2",
        "colab_type": "code",
        "colab": {
          "base_uri": "https://localhost:8080/",
          "height": 784
        },
        "outputId": "e9a17020-39be-44dc-e5c2-df1f37c41178"
      },
      "source": [
        "logdir = \"logs/frozen_bottom_layers\"\n",
        "tensorboard_callback = tf.keras.callbacks.TensorBoard(logdir, histogram_freq=1)\n",
        "frozen_bottom_layers.compile(optimizer=opt,loss=loss_fn,metrics=[\"accuracy\"])\n",
        "frozen_bottom_layers.fit(fmnist_data,epochs = 20,validation_data = (fmnist_test_data),callbacks=[tensorboard_callback])"
      ],
      "execution_count": null,
      "outputs": [
        {
          "output_type": "stream",
          "text": [
            "Epoch 1/20\n",
            "  1/938 [..............................] - ETA: 0s - loss: 2.3713 - accuracy: 0.0938WARNING:tensorflow:Callbacks method `on_train_batch_end` is slow compared to the batch time (batch time: 0.0057s vs `on_train_batch_end` time: 0.0397s). Check your callbacks.\n",
            "938/938 [==============================] - 3s 3ms/step - loss: 2.1144 - accuracy: 0.3377 - val_loss: 2.0574 - val_accuracy: 0.3929\n",
            "Epoch 2/20\n",
            "938/938 [==============================] - 3s 3ms/step - loss: 1.9925 - accuracy: 0.4640 - val_loss: 1.9969 - val_accuracy: 0.4597\n",
            "Epoch 3/20\n",
            "938/938 [==============================] - 3s 3ms/step - loss: 1.9786 - accuracy: 0.4769 - val_loss: 1.9937 - val_accuracy: 0.4614\n",
            "Epoch 4/20\n",
            "938/938 [==============================] - 3s 3ms/step - loss: 1.9741 - accuracy: 0.4803 - val_loss: 1.9897 - val_accuracy: 0.4656\n",
            "Epoch 5/20\n",
            "938/938 [==============================] - 3s 3ms/step - loss: 1.9699 - accuracy: 0.4835 - val_loss: 1.9860 - val_accuracy: 0.4669\n",
            "Epoch 6/20\n",
            "938/938 [==============================] - 3s 3ms/step - loss: 1.9678 - accuracy: 0.4854 - val_loss: 1.9866 - val_accuracy: 0.4654\n",
            "Epoch 7/20\n",
            "938/938 [==============================] - 3s 3ms/step - loss: 1.9545 - accuracy: 0.4980 - val_loss: 1.9040 - val_accuracy: 0.5502\n",
            "Epoch 8/20\n",
            "938/938 [==============================] - 3s 3ms/step - loss: 1.7973 - accuracy: 0.6598 - val_loss: 1.8078 - val_accuracy: 0.6492\n",
            "Epoch 9/20\n",
            "938/938 [==============================] - 3s 3ms/step - loss: 1.7402 - accuracy: 0.7179 - val_loss: 1.7275 - val_accuracy: 0.7318\n",
            "Epoch 10/20\n",
            "938/938 [==============================] - 3s 3ms/step - loss: 1.6924 - accuracy: 0.7668 - val_loss: 1.7296 - val_accuracy: 0.7289\n",
            "Epoch 11/20\n",
            "938/938 [==============================] - 3s 3ms/step - loss: 1.6884 - accuracy: 0.7706 - val_loss: 1.7221 - val_accuracy: 0.7364\n",
            "Epoch 12/20\n",
            "938/938 [==============================] - 3s 3ms/step - loss: 1.6112 - accuracy: 0.8486 - val_loss: 1.6599 - val_accuracy: 0.7996\n",
            "Epoch 13/20\n",
            "938/938 [==============================] - 3s 3ms/step - loss: 1.6034 - accuracy: 0.8560 - val_loss: 1.6526 - val_accuracy: 0.8062\n",
            "Epoch 14/20\n",
            "938/938 [==============================] - 3s 3ms/step - loss: 1.6006 - accuracy: 0.8594 - val_loss: 1.6532 - val_accuracy: 0.8051\n",
            "Epoch 15/20\n",
            "938/938 [==============================] - 3s 3ms/step - loss: 1.5989 - accuracy: 0.8609 - val_loss: 1.6506 - val_accuracy: 0.8087\n",
            "Epoch 16/20\n",
            "938/938 [==============================] - 3s 3ms/step - loss: 1.5973 - accuracy: 0.8625 - val_loss: 1.6513 - val_accuracy: 0.8072\n",
            "Epoch 17/20\n",
            "938/938 [==============================] - 3s 3ms/step - loss: 1.5951 - accuracy: 0.8646 - val_loss: 1.6472 - val_accuracy: 0.8117\n",
            "Epoch 18/20\n",
            "938/938 [==============================] - 3s 3ms/step - loss: 1.5954 - accuracy: 0.8644 - val_loss: 1.6479 - val_accuracy: 0.8105\n",
            "Epoch 19/20\n",
            "938/938 [==============================] - 3s 3ms/step - loss: 1.5939 - accuracy: 0.8658 - val_loss: 1.6551 - val_accuracy: 0.8040\n",
            "Epoch 20/20\n",
            "938/938 [==============================] - 3s 3ms/step - loss: 1.5934 - accuracy: 0.8661 - val_loss: 1.6485 - val_accuracy: 0.8108\n"
          ],
          "name": "stdout"
        },
        {
          "output_type": "execute_result",
          "data": {
            "text/plain": [
              "<tensorflow.python.keras.callbacks.History at 0x7fa55fd53ef0>"
            ]
          },
          "metadata": {
            "tags": []
          },
          "execution_count": 73
        }
      ]
    },
    {
      "cell_type": "markdown",
      "metadata": {
        "id": "trab-sDMn_SG",
        "colab_type": "text"
      },
      "source": [
        "### replacing (or reinitializing) multiple top layers"
      ]
    },
    {
      "cell_type": "code",
      "metadata": {
        "id": "CSD7VSbSn-tg",
        "colab_type": "code",
        "colab": {
          "base_uri": "https://localhost:8080/",
          "height": 479
        },
        "outputId": "5a55b997-a089-4797-e64d-e6ecafed8697"
      },
      "source": [
        "replaced_top_layers = Sequential()\n",
        "replaced_top_layers.add(Conv2D(16,(3,3),padding='same',activation='relu',input_shape=(28,28,1)))\n",
        "replaced_top_layers.add(MaxPool2D())\n",
        "for layers in mnist_model.layers[2:]:\n",
        "  replaced_top_layers.add(layers)\n",
        "\n",
        "loss_fn = keras.losses.SparseCategoricalCrossentropy(from_logits=True)\n",
        "opt = keras.optimizers.Adam(learning_rate=0.001)"
      ],
      "execution_count": null,
      "outputs": [
        {
          "output_type": "stream",
          "text": [
            "Model: \"sequential_22\"\n",
            "_________________________________________________________________\n",
            "Layer (type)                 Output Shape              Param #   \n",
            "=================================================================\n",
            "conv2d_28 (Conv2D)           (None, 28, 28, 16)        160       \n",
            "_________________________________________________________________\n",
            "max_pooling2d_28 (MaxPooling (None, 14, 14, 16)        0         \n",
            "_________________________________________________________________\n",
            "conv2d_19 (Conv2D)           (None, 14, 14, 32)        4640      \n",
            "_________________________________________________________________\n",
            "max_pooling2d_19 (MaxPooling (None, 7, 7, 32)          0         \n",
            "_________________________________________________________________\n",
            "conv2d_20 (Conv2D)           (None, 7, 7, 64)          18496     \n",
            "_________________________________________________________________\n",
            "max_pooling2d_20 (MaxPooling (None, 3, 3, 64)          0         \n",
            "_________________________________________________________________\n",
            "flatten_6 (Flatten)          (None, 576)               0         \n",
            "_________________________________________________________________\n",
            "dense_15 (Dense)             (None, 128)               73856     \n",
            "_________________________________________________________________\n",
            "dense_16 (Dense)             (None, 10)                1290      \n",
            "=================================================================\n",
            "Total params: 98,442\n",
            "Trainable params: 75,306\n",
            "Non-trainable params: 23,136\n",
            "_________________________________________________________________\n"
          ],
          "name": "stdout"
        }
      ]
    },
    {
      "cell_type": "code",
      "metadata": {
        "id": "whs60SLxpyP6",
        "colab_type": "code",
        "colab": {
          "base_uri": "https://localhost:8080/",
          "height": 784
        },
        "outputId": "dd8092b1-256b-4f36-cef7-cd4d08c348d6"
      },
      "source": [
        "logdir = \"logs/replacing_top_layers\"\n",
        "tensorboard_callback = tf.keras.callbacks.TensorBoard(logdir, histogram_freq=1)\n",
        "replaced_top_layers.compile(optimizer=opt,loss=loss_fn,metrics=[\"accuracy\"])\n",
        "replaced_top_layers.fit(fmnist_data,epochs = 20,validation_data = (fmnist_test_data),callbacks=[tensorboard_callback])"
      ],
      "execution_count": null,
      "outputs": [
        {
          "output_type": "stream",
          "text": [
            "Epoch 1/20\n",
            "  2/938 [..............................] - ETA: 26s - loss: 18.8834 - accuracy: 0.0781WARNING:tensorflow:Callbacks method `on_train_batch_end` is slow compared to the batch time (batch time: 0.0059s vs `on_train_batch_end` time: 0.0502s). Check your callbacks.\n",
            "938/938 [==============================] - 3s 4ms/step - loss: 0.6314 - accuracy: 0.8017 - val_loss: 0.4773 - val_accuracy: 0.8262\n",
            "Epoch 2/20\n",
            "938/938 [==============================] - 3s 3ms/step - loss: 0.4044 - accuracy: 0.8536 - val_loss: 0.4098 - val_accuracy: 0.8538\n",
            "Epoch 3/20\n",
            "938/938 [==============================] - 3s 3ms/step - loss: 0.3710 - accuracy: 0.8648 - val_loss: 0.3889 - val_accuracy: 0.8602\n",
            "Epoch 4/20\n",
            "938/938 [==============================] - 3s 3ms/step - loss: 0.3525 - accuracy: 0.8711 - val_loss: 0.3888 - val_accuracy: 0.8626\n",
            "Epoch 5/20\n",
            "938/938 [==============================] - 3s 4ms/step - loss: 0.3398 - accuracy: 0.8740 - val_loss: 0.3700 - val_accuracy: 0.8678\n",
            "Epoch 6/20\n",
            "938/938 [==============================] - 3s 4ms/step - loss: 0.3314 - accuracy: 0.8783 - val_loss: 0.3733 - val_accuracy: 0.8667\n",
            "Epoch 7/20\n",
            "938/938 [==============================] - 3s 3ms/step - loss: 0.3235 - accuracy: 0.8804 - val_loss: 0.3745 - val_accuracy: 0.8629\n",
            "Epoch 8/20\n",
            "938/938 [==============================] - 3s 3ms/step - loss: 0.3162 - accuracy: 0.8837 - val_loss: 0.3605 - val_accuracy: 0.8687\n",
            "Epoch 9/20\n",
            "938/938 [==============================] - 3s 3ms/step - loss: 0.3107 - accuracy: 0.8838 - val_loss: 0.3638 - val_accuracy: 0.8699\n",
            "Epoch 10/20\n",
            "938/938 [==============================] - 3s 3ms/step - loss: 0.3044 - accuracy: 0.8863 - val_loss: 0.3594 - val_accuracy: 0.8728\n",
            "Epoch 11/20\n",
            "938/938 [==============================] - 3s 4ms/step - loss: 0.3018 - accuracy: 0.8871 - val_loss: 0.3568 - val_accuracy: 0.8739\n",
            "Epoch 12/20\n",
            "938/938 [==============================] - 3s 4ms/step - loss: 0.2980 - accuracy: 0.8897 - val_loss: 0.3548 - val_accuracy: 0.8717\n",
            "Epoch 13/20\n",
            "938/938 [==============================] - 3s 3ms/step - loss: 0.2953 - accuracy: 0.8899 - val_loss: 0.3611 - val_accuracy: 0.8692\n",
            "Epoch 14/20\n",
            "938/938 [==============================] - 3s 3ms/step - loss: 0.2922 - accuracy: 0.8908 - val_loss: 0.3506 - val_accuracy: 0.8772\n",
            "Epoch 15/20\n",
            "938/938 [==============================] - 3s 4ms/step - loss: 0.2897 - accuracy: 0.8907 - val_loss: 0.3527 - val_accuracy: 0.8732\n",
            "Epoch 16/20\n",
            "938/938 [==============================] - 3s 4ms/step - loss: 0.2864 - accuracy: 0.8931 - val_loss: 0.3600 - val_accuracy: 0.8713\n",
            "Epoch 17/20\n",
            "938/938 [==============================] - 3s 4ms/step - loss: 0.2865 - accuracy: 0.8933 - val_loss: 0.3633 - val_accuracy: 0.8703\n",
            "Epoch 18/20\n",
            "938/938 [==============================] - 3s 4ms/step - loss: 0.2827 - accuracy: 0.8946 - val_loss: 0.3483 - val_accuracy: 0.8758\n",
            "Epoch 19/20\n",
            "938/938 [==============================] - 3s 3ms/step - loss: 0.2833 - accuracy: 0.8934 - val_loss: 0.3460 - val_accuracy: 0.8781\n",
            "Epoch 20/20\n",
            "938/938 [==============================] - 3s 3ms/step - loss: 0.2798 - accuracy: 0.8961 - val_loss: 0.3624 - val_accuracy: 0.8715\n"
          ],
          "name": "stdout"
        },
        {
          "output_type": "execute_result",
          "data": {
            "text/plain": [
              "<tensorflow.python.keras.callbacks.History at 0x7fa55fd300f0>"
            ]
          },
          "metadata": {
            "tags": []
          },
          "execution_count": 76
        }
      ]
    },
    {
      "cell_type": "markdown",
      "metadata": {
        "id": "P6enQ5qsqug1",
        "colab_type": "text"
      },
      "source": [
        "### replacing the source classification layer"
      ]
    },
    {
      "cell_type": "code",
      "metadata": {
        "id": "I8Mdegn3qx1P",
        "colab_type": "code",
        "colab": {
          "base_uri": "https://localhost:8080/",
          "height": 515
        },
        "outputId": "99bae36b-5e0d-4f6d-cc71-177fe025eff5"
      },
      "source": [
        "replace_classification_layer = Sequential()\n",
        "for layers in mnist_model.layers[:-2]:\n",
        "  replace_classification_layer.add(layers)\n",
        "\n",
        "replace_classification_layer.add(Dense(512,activation= \"relu\"))\n",
        "replace_classification_layer.add(Dense(128,activation= \"relu\"))\n",
        "replace_classification_layer.add(Dense(10,activation= \"softmax\"))\n",
        "\n",
        "replace_classification_layer.summary()\n",
        "loss_fn = keras.losses.SparseCategoricalCrossentropy(from_logits=True)\n",
        "opt = keras.optimizers.Adam(learning_rate=0.001)"
      ],
      "execution_count": null,
      "outputs": [
        {
          "output_type": "stream",
          "text": [
            "Model: \"sequential_24\"\n",
            "_________________________________________________________________\n",
            "Layer (type)                 Output Shape              Param #   \n",
            "=================================================================\n",
            "conv2d_18 (Conv2D)           (None, 28, 28, 16)        160       \n",
            "_________________________________________________________________\n",
            "max_pooling2d_18 (MaxPooling (None, 14, 14, 16)        0         \n",
            "_________________________________________________________________\n",
            "conv2d_19 (Conv2D)           (None, 14, 14, 32)        4640      \n",
            "_________________________________________________________________\n",
            "max_pooling2d_19 (MaxPooling (None, 7, 7, 32)          0         \n",
            "_________________________________________________________________\n",
            "conv2d_20 (Conv2D)           (None, 7, 7, 64)          18496     \n",
            "_________________________________________________________________\n",
            "max_pooling2d_20 (MaxPooling (None, 3, 3, 64)          0         \n",
            "_________________________________________________________________\n",
            "flatten_6 (Flatten)          (None, 576)               0         \n",
            "_________________________________________________________________\n",
            "dense_31 (Dense)             (None, 512)               295424    \n",
            "_________________________________________________________________\n",
            "dense_32 (Dense)             (None, 128)               65664     \n",
            "_________________________________________________________________\n",
            "dense_33 (Dense)             (None, 10)                1290      \n",
            "=================================================================\n",
            "Total params: 385,674\n",
            "Trainable params: 362,378\n",
            "Non-trainable params: 23,296\n",
            "_________________________________________________________________\n"
          ],
          "name": "stdout"
        }
      ]
    },
    {
      "cell_type": "code",
      "metadata": {
        "id": "ePOB6KVMrg8t",
        "colab_type": "code",
        "colab": {
          "base_uri": "https://localhost:8080/",
          "height": 784
        },
        "outputId": "f7a91c90-1c4b-4191-e341-8419ab90b4a0"
      },
      "source": [
        "logdir = \"logs/replace_classification_layer\"\n",
        "tensorboard_callback = tf.keras.callbacks.TensorBoard(logdir, histogram_freq=1)\n",
        "replace_classification_layer.compile(optimizer=opt,loss=loss_fn,metrics=[\"accuracy\"])\n",
        "replace_classification_layer.fit(fmnist_data,epochs = 20,validation_data = (fmnist_test_data),callbacks=[tensorboard_callback])"
      ],
      "execution_count": null,
      "outputs": [
        {
          "output_type": "stream",
          "text": [
            "Epoch 1/20\n",
            "  2/938 [..............................] - ETA: 24s - loss: 2.2720 - accuracy: 0.2031WARNING:tensorflow:Callbacks method `on_train_batch_end` is slow compared to the batch time (batch time: 0.0065s vs `on_train_batch_end` time: 0.0447s). Check your callbacks.\n",
            "938/938 [==============================] - 3s 4ms/step - loss: 1.5754 - accuracy: 0.8878 - val_loss: 1.5773 - val_accuracy: 0.8828\n",
            "Epoch 2/20\n",
            "938/938 [==============================] - 3s 3ms/step - loss: 1.5438 - accuracy: 0.9174 - val_loss: 1.5634 - val_accuracy: 0.8973\n",
            "Epoch 3/20\n",
            "938/938 [==============================] - 3s 3ms/step - loss: 1.5357 - accuracy: 0.9256 - val_loss: 1.5647 - val_accuracy: 0.8962\n",
            "Epoch 4/20\n",
            "938/938 [==============================] - 3s 3ms/step - loss: 1.5343 - accuracy: 0.9266 - val_loss: 1.5581 - val_accuracy: 0.9029\n",
            "Epoch 5/20\n",
            "938/938 [==============================] - 3s 3ms/step - loss: 1.5297 - accuracy: 0.9310 - val_loss: 1.5630 - val_accuracy: 0.8970\n",
            "Epoch 6/20\n",
            "938/938 [==============================] - 3s 3ms/step - loss: 1.5281 - accuracy: 0.9327 - val_loss: 1.5571 - val_accuracy: 0.9042\n",
            "Epoch 7/20\n",
            "938/938 [==============================] - 3s 3ms/step - loss: 1.5242 - accuracy: 0.9366 - val_loss: 1.5637 - val_accuracy: 0.8971\n",
            "Epoch 8/20\n",
            "938/938 [==============================] - 3s 3ms/step - loss: 1.5254 - accuracy: 0.9356 - val_loss: 1.5665 - val_accuracy: 0.8937\n",
            "Epoch 9/20\n",
            "938/938 [==============================] - 3s 3ms/step - loss: 1.5246 - accuracy: 0.9366 - val_loss: 1.5615 - val_accuracy: 0.8994\n",
            "Epoch 10/20\n",
            "938/938 [==============================] - 3s 3ms/step - loss: 1.5232 - accuracy: 0.9378 - val_loss: 1.5569 - val_accuracy: 0.9039\n",
            "Epoch 11/20\n",
            "938/938 [==============================] - 3s 3ms/step - loss: 1.5260 - accuracy: 0.9351 - val_loss: 1.5646 - val_accuracy: 0.8965\n",
            "Epoch 12/20\n",
            "938/938 [==============================] - 3s 3ms/step - loss: 1.5223 - accuracy: 0.9388 - val_loss: 1.5606 - val_accuracy: 0.9003\n",
            "Epoch 13/20\n",
            "938/938 [==============================] - 3s 3ms/step - loss: 1.5237 - accuracy: 0.9372 - val_loss: 1.5571 - val_accuracy: 0.9036\n",
            "Epoch 14/20\n",
            "938/938 [==============================] - 3s 3ms/step - loss: 1.5224 - accuracy: 0.9386 - val_loss: 1.5619 - val_accuracy: 0.8988\n",
            "Epoch 15/20\n",
            "938/938 [==============================] - 3s 3ms/step - loss: 1.5245 - accuracy: 0.9365 - val_loss: 1.5630 - val_accuracy: 0.8981\n",
            "Epoch 16/20\n",
            "938/938 [==============================] - 3s 3ms/step - loss: 1.5220 - accuracy: 0.9388 - val_loss: 1.5646 - val_accuracy: 0.8967\n",
            "Epoch 17/20\n",
            "938/938 [==============================] - 3s 3ms/step - loss: 1.5242 - accuracy: 0.9368 - val_loss: 1.5635 - val_accuracy: 0.8973\n",
            "Epoch 18/20\n",
            "938/938 [==============================] - 3s 3ms/step - loss: 1.5196 - accuracy: 0.9413 - val_loss: 1.5626 - val_accuracy: 0.8983\n",
            "Epoch 19/20\n",
            "938/938 [==============================] - 3s 3ms/step - loss: 1.5221 - accuracy: 0.9388 - val_loss: 1.5628 - val_accuracy: 0.8983\n",
            "Epoch 20/20\n",
            "938/938 [==============================] - 3s 3ms/step - loss: 1.5198 - accuracy: 0.9412 - val_loss: 1.5678 - val_accuracy: 0.8931\n"
          ],
          "name": "stdout"
        },
        {
          "output_type": "execute_result",
          "data": {
            "text/plain": [
              "<tensorflow.python.keras.callbacks.History at 0x7fa55da72b70>"
            ]
          },
          "metadata": {
            "tags": []
          },
          "execution_count": 80
        }
      ]
    },
    {
      "cell_type": "markdown",
      "metadata": {
        "id": "BKrG20TasU4Y",
        "colab_type": "text"
      },
      "source": [
        "The plots for all the experiments for transfer learning under different distribution compared with training a fresh model using target dataset can be found below\n",
        "\n",
        "Note: The dark blue plot in all the images represents the accuracy vs epoch plot of training a target model from scratch and all experiments are done for 20 epochs\n",
        "\n",
        "### **pre trained source weights and unfreezed layers**\n",
        "![target Vs unfrozen pretrained.PNG](data:image/png;base64,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)\n",
        "\n",
        "The target model gave a better result compared to this approach\n",
        "\n",
        "### **freezing all pre-trained layers**\n",
        "![frozen pretrained layers.PNG](data:image/png;base64,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)\n",
        "\n",
        "This approach gave a similar result\n",
        "\n",
        "### **freezing only some bottom layers**\n",
        "\n",
        "![frozen bottom layer.PNG](data:image/png;base64,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)\n",
        "\n",
        "This approach gave the worst result of all other approaches.\n",
        "\n",
        "### **replacing (or reinitializing) multiple top layers**\n",
        "![replaced top layers.PNG](data:image/png;base64,iVBORw0KGgoAAAANSUhEUgAAAW4AAADvCAYAAADSOT5GAAAAAXNSR0IArs4c6QAAAARnQU1BAACxjwv8YQUAAAAJcEhZcwAAEnQAABJ0Ad5mH3gAADJ9SURBVHhe7Z0JeBzlmednd3ZnZ3Z3dncmc+QgM7NJZkIymUkgAXKQEEjIAQE2BwQCIifHkJgkkMSJISRgbrBjmxAwN4QbGwkZGYxkyYcuW/fRutW6bEm2bku2fPJu/b9SmXLpq1ZL1W8jJf/f87yP1Pq6q1RfV/3q7be++vpPhBBCyIKC4iaEkAUGxU0IIQsMipsQQhYYFDchhCwwKG5CCFlgUNyEELLAoLgJIWSBQXETQsgCg+ImhJAFBsVNCCELjHkp7uHhYRkYGDgmWlpa5NVXX5UdO3akJerr62X16tWSm5trbdeIpqYm2bJli7VNK7Zt2ybV1dXWNo3o6ekxfdrZ2Wlt14hYLCZFRUXWNq3A+rBeW5tGoD/Rr+hfW7tGYL/B/mNr0wocHzhObG0a0draKvn5+dY2raioqJgyYTgLJuPGDlleXj71SJ/du3cbcWPHTBdjY2PS2Ng49Sg94IDv7++feqTP66+/LlVVVXLw4MGpv+gzNDRkDsB0gvVhvekC/Yl+Rf+mC+w32H/SCY4PHCfpYu/evVJXVzf1KD1A3jNBcYdAcetAcetAcetAcUeE4taB4taB4taB4nahuEOguHWguHWguHWguCNCcetAcetAcetAcbtQ3CFQ3DpQ3DpQ3DpQ3BGhuHWguHWguHWguF0o7hAobh0obh0obh0o7ohQ3DpQ3DpQ3DpQ3C4UdwgUtw4Utw4Utw4LWtzl5dWyZMlSmZycnPrLdOLxTjn7rAvkxBNOm/bckZFRuTTjStPmRVZWzlRrclDcOlDcOlDcOlDcLjOKG9K2ydgP/o52yNj/uwekvmjRYiPwuUJx60Bx60Bx60BxuyQU96qVq00WfeutyxOKG2LOcDJq/ATBDD2ZjH0mKG4dKG4dKG4dKG6XhOKGcAGy50TixfNQCvEy6uBjvB4ngShQ3DpQ3DpQ3DpQ3C5J1biTEbe/PVgagbT99e25ZN8Utw4Utw4Utw4Ut4u6uPE3tHkZd/CxDewMNTU1x0RlZaWsWbPGzJOdjigtLTXiXrdunbVdI3CSyMnJsbZpRV5enpnj2NamETgIMjMzzVzOtnaNKC4uNnO529q0AuvDem1tGoH+RL+if23tGoH9BvuPrU0rcHzgOLG1aQSSxezsbGubVhQUFEyZMJyUiTtRqSTITO3j4+PTor29XQoLC2ViYiIt0dXVZcSdznX29fWZE5StTSuQwcTjcWubRuC9LCkpcd77EWu7RuDTWm1trbVNK7A+rNfWphHoT/Qr+tfWrhHYb7D/2Nq0AscHjhNbm0bgS1zKysqsbVqRzKfDlIg7WBoJZuBBZmq3wVKJDiyV6MBSiQ4slbikRNz4O9rxPP/vADJHdg1Z+x977clCcetAcetAcetAcbvMSdyenD0ZA2Tdyd6AM5cRJhS3DhS3DhS3DhS3S1Ling9Q3DpQ3DpQ3DpQ3C4UdwgUtw4Utw4Utw4Ud0Qobh0obh0obh0obheKOwSKWweKWweKWweKOyIUtw4Utw4Utw4UtwvFHQLFrQPFrQPFrQPFHRGKWweKWweKWweK24XiDoHi1oHi1oHi1oHijgjFrQPFrQPFrQPF7UJxh0Bx60Bx60Bx60BxR4Ti1oHi1oHi1oHidpmX4vZP5+oFp3XVCRwInNY19cFpXXWC07q6zEtx4yzOL1JIT/CLFHSCX6SgE/wiBReWSkJgqUQHlkp0YKlEB5ZKIkJx60Bx60Bx60Bxu1DcIVDcOlDcOlDcOlDcEaG4daC4daC4daC4XSjuEChuHShuHShuHSjuiFDcOlDcOlDcOlDcLhR3CBS3DhS3DhS3DnMR98rCbvngilL5b9dtNHHFiw3St+fAVOvMUNwRoLh1oLh1oLh1mK24v7smJn+yOHdavOuOQmkf2jf1rMRQ3BGguHWguHWguHWwifuI08UHDh+RvQcPy579h2R430HZPXFQVhV1W6XtxXmPV08tITEUdwQobh0obh3+mMQ96hwnkOcRZ1sPO78ccuLg4deNTPcfOiKTTuw76Ip14oAb4/sPy5gj2dFJV7SDeyHbA9I/fkD69uyXnWP7pWd0v3SNTErH8KTEney4bXCf1PQMyrqiKqnvn5Dq3nGp2DEm5U6Udo9JftuQZDcMyDM1/fLw9p3yr8uLrcL2xy5nfTMRWdzxeKecfdYFcuIJp8mSJUtlcnJyqmU65eXV5nmISzOulJGR0akWMb/jb147IisrZ6o1OShuHShuHSju5DmawTqChVghVdSEe0Yh0X3SMrBXGnZNSE3fuKwtrJXNzb1GnoliO8TaPiwvNw7Ic45YHynfKb8r6ZHlW7vktoIO+XVuu/zi1Va55uVmuSqr0ZQ4Lnm2Xs5/qkbOdTLjzz1cKaetLpeT7ymV4+/YJP98V5G8/ZYt8r9/VSD/5Rd5ViknE9W9e6a2OpxI4oakIWsI1v+7DU/wkDfAT7/o0b5o0eJjZD5bKG4dKG4d/pDFjQwXmW28p1fqW+KzzmIh4qbdE1LXPy5VO/dYxZvfPiRZsd3yREWv/LaoW27N75DFr7TKRY8Wy0VPVslXf18jX3Tk+qn7y+XDq7bJ8cuK5B9u2yp/feMm+fPrNlqlqR1/moTQk7lIGUnckG2GkyXjJwjK2A+E7m/Dz1tvXZ7Ua5OF4taB4tZhvosbTzvoCBhlhXFfpgvpQriQLUQLyTY62a6RrJMt+uX6Wk2HrCtrPuZviMLOEXmteUherN8lT1b2yeptO0ymu3Rj3GS5V7/ULN9xMtzzn6xxMtsK+ei92+X9y4rluFu3yP+6ocAqvFQEMuW/dJb/d0s3yz86kj/+7mL50MpS+Ziz/jMeqJCzH62Srzn/EzLvy9Y2yNXZTXJNdoNc9VSJLNvSJQ9u32Gy91eaB2Vrx4jJnnEiQp+hLPNw2U7rer0465Gqqd5PTCRxQ7b+kkfwsR+buPEYrwFoX7Vytfl9rlDcOlDcOqRL3Kjzoswwtne/FJVVyrAj34EJV8A7HAF3OgLGaIbmqXJDbd+4VIZkucEo63Hk7AgYNVyUGSBelBa+9XzMlBNOXlkkx9+xWd5zZ5G89ebNjnTz5T9HKCOExZ8tyZO/d5b/PkfuJy7bIp97oEy+/nStkSv+H5Q9INYHnBPEs9X9ktM0cFSs2Hb0Bz4hzIXZjiq55Nk66zagzIL+T4bI4vbLOFG5A89F3doTtffYK61A2v769lyyb4pbB4pbh9mK26vz4kIast8hR8C4kNW7Z790m1rvpLQ62R1KDLhQVoMLZT4Bl3YOydMby4xs/fL1R1j54arMRvnGM3XyRScjPOW32009FyUHm4DmGv/9+nwjXyz7xFWl8unV5fKV39fI99Y0yE/Xt5i6MzLzF2p3yca2IVNCQdaPi4p+cHzgOEkXcxnHjW3xb3vGc/USH05uKCBIm7gBJO2JGWUSvBZ/87JvL+MOPrbR3d09LRoaGswcx9iodATmxYW4c3Nzre0a0dTUZOY4trVpBU5MmMvZ1qYROAGjT3HCsLVrRCwWk6KiImubVmB9tfUxae/qkeaObom1d0lNa5dUNHfKtsYOKYrFZXNdXDbWtMuGqjZZXzm7eKakWe4raJDbXq2TxVk1cvnT5fKFlblyzkPb5PTflchJKwrl+Lu2yDtu3mQyYb9IZht/fl2evPWmAnnvnVvkFCfL/vzqUrngsTLJeLRQrnh8i9yYUyvLXnOOl02N8lRxs7xU3mq2C9uJ7e5y3nNbH80lcHzgOLG1aQROwPn5+da2maKze27bXVFRMWXCcFJSKgmC5+C5XgYeZKZlUdz2do2guJOPHic6nIOxtbNbGuPdUtfWJVUtnVLW1CklDR2ytT4uBXXtkutI69H1W+X5LdVW6doCsnu8sElWbowZEV77YpVc9kyFnP/YdvmcI8qTVhTJe+7YLG/5dYH8J4tck42/uG6jvPOWTXLC8kI58/4SueiJMln0QpXcsK5WlufWy8NbGmXt9hYj3nLnJNPWGS4f7DfYf2xtWrGQxD3XiCTuYIYdzMATgdf6L2wGmc2yPFgq0eGPtVSC8b+oe+KiEsb3ejdRuMPQ9kvn8KS58ITasDuGN7m6sBeZJTF5qapL1tbtkge27ZS7NnfK9Rva5PtZTaYs8YVHKuWk324zd9RFvSD3lhs3yfvuLpKPLNskFzxVKz94qcnUo1F6QGmkuGtU2ob2TSs7RAX7DfafdLIQSiVRgbxnIlTcXknDX+7watZB/JIPlkKC2bf3OGxZYVDcOixkcWP8BIamYWSEVxvGyAjUhjEyohsjI4b3SVlbr2woazAjI2YrYH9gbDBGFDxd1Sf3FnfLLflxU5/93tqYGZ52+gPl8m+/KZG337JZ/muEi3S4GIcRFqgFf9ER/DefrzfruXtLp6lPb3D+B9SAsY04AYHZjipJBRS3DpHEDSBk2w04npz9pRB/jdv/XODJ2mufywgTiluH+Spu3AmHYWpDTiaMLBgXqloG3xgZETb+1xb5sR6TAdvaNrUPS2b9LnmsfKesKOwyIxR+lN0slz5XL196rFo+fu92+RdcrPt1tIt1uHEDF+Y+cV+ZuSh35YuNcsNr7c4JoMdckNscH5Gm3XudzP/QVA/MDopbhwUp7vkExa3DmyXuickDssf56I4MGSMnUJpAWQJZccWOuWXFGGWBu+ti/ROyrXtUXmrYLfeX7pCfZdfLNx7bJl9/qlY++2CFfGhFiRx3y1Yzc5tNsskExgRjiBfGAeMuO4z9xdC02zd1yCNlO+XB/FrJc04YOOHgE4E2FLcOFHdEKG4dUi1ulC4wTwTqxp6UIS/Ui3EjB0oVGLaG4Ws2+QYDz0eWjddjWByyb4zLxY0hBW3D8mRVr9xe0CFXZTY5GXKVKVXgJgubbGeK/+NkxciuT3WyYpQ+/iOz0WTg95a8kRU37p4wnwJmYrbDAaNCcetAcUeE4tZhtuJGCQMzouHWZswlgbvr8BEfmXIyN3ZgnLFf3Ji4BzLEjRK4KIjlolaNi2m4iQL15FsdMWNO4y84mS3udvuL65PPlP/q1wXyvrsK5dRVhebmCC8rfrR8p7lRA/8DauFzvUEjDIpbB4rbheIO4Y9d3Ph4P7LvkMlwMdEP5DqbujICN4kgW24d3GuybmTfA46YC7dXSn3vqBS0D8vjFb1yU15cvvNCTD7zYIW5Cy+ZSXwwLwTmpsDtyrhN+YfZzXLnpk4nA+8zy0VGjhEjYCHcgBMVilsHijsiFLcOjW0d0ti509wejXJEvZM52yQcDEgZNWmM2kCmjJEcuLCG0R24AxD6QEkBQ9FQ8128vtXMR/zeu4usIrYFxIw5JC5f22CkjKF1qH/3JzFRjx+KWweKWweKOwJ/aOLGnBYYpQHBIoOOOZkwBIxJgjBZUFDMXmAMM4QOsaNmDTF7Q9A80I7pMzFfBOaP+NT9ZWYiH5uMg/HuOwrNxT1MrYmJiLIbdpss/cDh1AmI4taB4taB4o7AQhY3LhDi4iDKHKgdJ8qiIe6NdZ1mDgyM7EA2ixqzreYLcee2Dpns98Kn6+QDy0uSKmv8zU2bzAU/SB1jke9Zv00a+sYcyUwtWBmKWweKWweKOwILRdwoS6AWjZsxkPlijLNN0F6gHc9DvdlcBIx3WGvcKH8g+70xr92UOFC2sEnZH7gLEFNX4gIgZmrDxUWMAPEDsUAwEE26oLh1oLh1oLgjMB/FjYttyHoxLK55994Z7wLEeGaM+sAUn8jAkYkHwYFX3NRl5hn++SutpmzxtzclLnO805E4pvX8dW67mUYT/0eyozIobh0obh0o7oj8MYkbgsXNKahHo3yBER2JhtqhDWOkMfUnXoM5KVDTtoE692stQyaT/rwj6b/8ZeKhdRjXjLmPMYQOrwtm0LOF4taB4taB4o7IH7q4MTa6oWdAXi6ps8rZC2S3GM2B4XWYFAkXCxMdq8jMMWb58hcbzM0pNjl78cEVpWaS/JVF3abMgWWnGopbB4pbh7mIe/fzD0lDxhlS+cnjTHTf8VM5NJL8vkBxRyAd4kbpA7VpjKKAlPElqGsKa45KGvVojIFGvRklEtyRmAiMvc5vGzaTH33p0Soza5xN0Ih/ur1QLnqmTm56uVo21HSEZuiphuLWgeLWYbbi7rrlx1L+4b+aFnVf/ogc6O2eelZiFqy4sTPU1NQcE5WVlbJmzRozT3Y6orS01Ih73bp11va5RmVNnWwur5WXi6vl+c1Vx8RzeSXy+8wcKa6sNc+zvT4YD+ZWyLcfL5b33REu6T/9ea586O7NkvFYsSzLKZf87TVHX5+Xl2fmOPYvUzNwEGRmZpq5nG3tGlFcXGzmcre1aQXWh/Xa2jQC/Yl+Rf/a2jUC+w32H1ubVuTk5JhkytamEUgWs7OzrW3BqHlguVXaXlRdfp71dcEoKCiYMmE481Lc4+Pj06K9vV0KCwtlYmIiLdHV1WXEnYp1ju4Zl67do1LbMyiFrbtkqy/KOwaktW9Ydo3skb6+PnOCsi3Di/LOAbljY6uc+WBZ6LdZv+OWzXLeoxVy02vN8mqs16zftiwEMph4PG5t0wi8lyUlJTIyMmJt1wh8WqutrbW2aQXWh/Xa2jQC/Yl+Rf/a2jUC+w32H1ubNfaMyfjIsOwZHJA9u3fNKSqLC6W3vVX29PfKWN8OGdvZI2M7umS0p1NGu+Iy0tYkw7EqGawokYHifNm1ab30vfqi9L70lOzMfEJ6s37v/P6k9GY/Lb3rnpG+l5+VvpznpG/989L3yhrpf3Wt9G94Ufpfy5T+3CzpzlkjZY/c6zznBXcZax6VHU+vlp4n7pHuh5dL1/23S+dvl0rnihuk9pwPWYXtj7Ed3fa+8UUynw5ZKgkhaqkEn1hxJyFudgl+O3Zd37i5oQUXCv14Fyf9YMgeRnxgGlDM02ETNYbh4e5C3D6OC5mzAZ9u8JE3XbBUosPRUsmRw/L6YScOHZTXD+yXI/sn5ci+vXJ477gcHt8jh/eMyuGxYVNzPTQ8IAcHd8nBgX438PvQbjmEcNoOjQy6zxsddl4z4rwW4bx+fEwOTziJRke7dNRVy/7ebplsb5K99RWyp3yLjG7dIEOO+AaznzL13n5Hcr0P3CE77l0qPb+53tR8O2/+oXTc+APpuOE/JH795RL/xXel/WfflLZrL5bWH18oLYvOl5arviLNV54nzZedLU3f+YI0fvNMqTz/Y1LrRP2XT5LaL31Qaj73Xqk6/f9K5SfeLhUnvcUqy/kU+5pnLruwxh2BKOLGpEXB8dS4qIi/Y7RIGJ64S7pGzReOYlIlW1b9Z0s2ypkPVZiRHlh2FCjuJMBZ+PUjIkeOTEnxkCvGgwdcOXqCnNxnJHlk34S01NXIQHenER4ECCEe3N0nB/p3mlrn/h2dsr+7XSY7W2Uy3iT72hrMQb23sUYm6splT0Wx7CktkNEtr8rwxmwZeuUFGXQyvt1rHpFdT98nfY+vlN4H75Kd994sPSt+KZ23/1QqfpzhyvBXVx0rw59c4sjwIkeGF0jL978iLQEZ4kJaw0WfktjXPyH1XzvF1GPrzj1Bas/+N6n94vul5sz3SvVn3i1Vn/4nqfzkO6Xy42+TilP+TsoXgChTFRUn/41UfuxtUnnqcaYfqj/7Hqn5/PFSc9YHpNbpq7qvnCRVnzzO+lp/4AQ5ExR3BOYqbtzY4ska80Mj4x5zsuaZwC3o174Uk3fdap+S9H3Lik3W/Xxtv5PJp056fzTibmkxsoVgTfbpZI7IJl2h9sqBvh5Xpl1tMtnR/IZIG6oSxnjNdifL3CpjRXky4nwsH0ammfOsxFbfJXHno3TfI78xcu1edp103vIjI1SIFAKFOCFMiBKChBCMEC0H/IIMR+zIhKvPeJezff8qdf/vw+bk0HjpZ6T58nOcjPrL0upk1jiptP0kQ9p//m2JX3e5OfF0Lr1aum69Rrrv/Jn0LFsiPSt/ZTL2mpuvlY77bjMnr91rH5XBl5+R4dwsc4Lbs22TjFdvk71NNeY9xAkSnx7w6QAn27kwm4uTA5mP2/thKlp+8NWpZyaG4o7AXMSNm1w8aScr141tQ/Lt52PTbh3H9xCe81iV+a7CqFl1It4scR+YnHSzVXyMx0d4fHzHR3cnIznQv0MO7OxyMtK4cwC2yL72RtnXUu9ko9VWec4UvaWbpenVLCNYfIw3ckX2+tyDbuZ6/23OR/hfStdt10rc+eje/tNvmo/qTU5W2nDJ6RK74OOOXD/sZKAfcLLPf5Gq0/7Ryb7eKuUf+WvrAaoazjorP/E2qT7dkeEX3u/I8ATz/8Uu+bRUXHiaNF3hCPH7X5XWH37dlB3aF39L4ksuSyjDnc729z50l/Q9+hvp//09jhTvNyWOgRcfc/rpSXMiGnp1rQznvSQjBTmmD8dKNkrXhixpdfoV7ws+Nezf2SkHB/tNKQWfRjSY76NK8CnH9r5VO/sNkoFkoLgjMFtxH3aEhDmpIVkM35uJJyv7TCnEL+v/cf1GufCRYsms353SrDoRcxE3ygUmc3UyGZO5jnr10v6j2asRb0+HTHoZLOTbWi8TjTVSmfWcjNWWWSVriz0VRUYYA45Edj1zvxHMzt/dYrJYDL+K//IKaftphslomr53ljRcfJrUf/VkqXU+xlaf/m6pgGQtB5N2VHz87abMgEwT/xPKE60/utAR6fdM9o2TBWq//U/e62RrTzgnlBdltPA1Ga8slolYpTnQ0YcosaC+jJJMGBwOqMNcxnHjJOjfD/B+oyyWLBR3BGYrbkxvCmnjSwXCwKRPyKBxo4tf2Li4+Kvcdqnu3D3t4qQ2x4j79SMmC0Yp4dDYiCkjoCaLEgJqsRAJPoba5JpsTMSqjLiHi3JleMOLsvuFh6Xv4WWyw8n+cMEKNdnmK8+Vhos+KTXOx2uT2foOglRGxUf/Xqo/8x6pO/dDEnPW1/TdL0rr1RdI+y++Y/6XnuXXyc7Vt0vfYyucE8ZqJwN9XIbWO//7xmwj2D1lW2TCOQGhpIITFD4poJ6NTxGtLc0cx63AQhC3B5KbuUBxR2A24sZt5l6JZK/lbkPcko6Jl4JTnX703u3my2K9C5a2USVzxjmAZ67pdkh7yRbp2V6YVD13WjgfkfG6fa0xmaivlLHSfFOGQO0RWXHPyhuk86ZF0nbNJSYTrv/qKeaijk2iyUaysjVZrCNanBx6XlkrjeteMP8rTkKQq9ZHeQ/egKPDQhL3XKG4I5CsuHFbuDePCL52y8/6pgFzd6Jf1ghM0ITvMAySrLgx5OvI5F4zYgHlCVyEOTo6wZHobLLito2vSHfhxml/N1kk6pbOR7y9zbUyVrxRBtc9Lb2PLJeuO37iyPgb0phxhtR+6d/NKAObZJMNiDh2/sek+YpzjYC771osvQ/fbcSLC37IaiFcZLJzIfKokjlAcetAcbtQ3CEkK26Mm4a0MXrE4+GynXL66vJjZI1vFMd81FviI1PPmo5f3LgKjmFlqB+jxokLP+ZC3VwyY4Qjc0gdMsbHetROIfx45XbpKd3qZMsFMoibESDm2641F7dw0QtzLdhkmygwkgBjbDF6ADXdzht/IDvuudFkwYM5z0nlUw/KnliVOzTqSGq/69EGxa0Dxa1DZHHH451y9lkXyIknnCZLliyVycnwmo3/ufiJxx4jI6NyacaVps2LrKycqdbkmI/ixkRPkDbGbHtTpv5oXfMxwsY81tdtaEtY+3798CE5NDYsQy0xieW9knzGjGFPyIpxAWtXr3vzhCP6w+OjcmTvhCmToFyCsgkkjeFSKGP0rLhB2q69xAzNms2FOwi5/msfNUO4MDoBtWlcVBvZ7GXFHWa9iYBYIBiIJl1Q3DpQ3DpEEjckDVlDsP7fbXhiLi+vNo/xPDzG3wEkvmjR4qOP58J8EzcmffLq2ri7ERM8Xewri2AmvpWF3YK7J6fhHFwYAndg104jXk/Eu8sKJbY+81g5N9c6z2k2pQLUpiFmyNEIOQCGz40V55lhbt13/8Jku6grV5zyt1YRBwPD3GIXnmrG1WLIGIaGYQgYRjhg1EgqoLh1oLh1WHDihmwzHPl6mTOkHJZ1B587m9cmy3wSNyTt3RmJ2f1wR+TnHnpjaB+G+WEebT+oz6I0YGrGIRn1QH2lNBRvNbcY4/nIxMPAxUUMH+tetkQav3WmVcS2wN1wuI248+YfSf/jK6XluUekp7jADDdLBxS3DhS3DgtO3JCtP2sOPvZjy7j9osbjVStXm9/nynwSd9vgXiNtlD/wreP+4X3fXdNgyiYYc4tRHBjPvK+1wSpqzO8AAWPEx+tHjpgd0qtx+4HAx6tKpP+JVdL+s29J7TkftErZi7rzTjA3YXTd/hPpf+p3Mrr5FZPZ27J0HHg4ANMFxa0Dxa3DghS3X77InhOVO7xyCurXQUnjsb++PZfse76IGxm2VyLBdzL6h/hhLDYuKuIiok3U5oYKR+SHhgfNeOkgnrhRK0Y2jVo0bg0OvUB40luk6dufN8PuMPpif1e7KcPMBopbB4pbB4rbJSXiRhsuSHoZtz8794TuyTz42IY3las/5sO0rjsHR49Oy7pic9tRYWPSp3u2tpvnDDfVmSklEUO15TLS0mCmnNwzsPvocmwxUFIgTTf/WMrPPdEuaSdw22zT1V+XrgfuNFNWTjj9YlvWbAIHAqd1TX1wWledwLTHmP7Y1qYRAwMDUlZWZm3TimSSjJSUSoKlEU/OYRczEy0L4Cw+375Iobq2XrKL3C8/uOLJN74C7Lil+XLfhgrznLrNG6X25bVStz5L6su2Sb1z8PqXGQw8v2b5r6Ty4tOtoq4478NSdU2G1Nx7m9RteNm6jKjBL1LQCX6Rgk7M5y9SSFVE+iKFYIYN2frl7Gcu4g5bVhhvdqkEFxtRHvnWC/VHpX3qfWVS0ztu2jGXsVcSwZ15iRjJX2fm16g89R3HiLrmS/8uNTf8QEY25ZjlpQOWSnRgqUQHlkpcQsXtl+9MIraVSryx3BC//8Kl9zhsWWG8meLGHZGQ9lmPVh2VNr75HEMCAeb18KSNm2VsoA0zsWG+Y7+sMY66c+kPzZ2JYRcnNaG4daC4daC4XULFDTwhBy8oeiL3ZAzwu3fxcaYbcOYywuTNEvemolLZHB+Rk3+77ai0Me+IB4btYaw1xIybXPxgLmBMfI8RHn5ZI9quuViGNqw9Zsgfxa0Dxa0Dxa1DZHHPJ94Mcd/viHtFdpG8646io9JetqVr6hmOhDCCBF/Z5EgbE/B7w+0wcxzmPsYE8n5ZN1z8aTMbXtjNLBS3DhS3DhS3DhR3BCDuy5Y9Kf/zevcLDt568xZ5tvpYwZmbaRxpYw4QTPoEMDOdX9bVn/1nUyLB/CAzQXHrQHHrQHHrQHFHoCa+U/7hhpeNtHGDzdaOY+8sxI0zkDYCN9BgvhB8/ZIn7I4brjQT4s8GilsHilsHilsHijsCyLh/tvJxOXlZgbQPvTHzHzhmBMnwgBklglvJPWljOtK5QHHrQHHrQHHrQHFHwLs4WVhy7J2T/hEkmCTKXxrBhE77Wub+JlPcOlDcOlDcOlDcEfDE7b/lHSNIzJfWOtLes32LmX3Pkza+vTsqFLcOFLcOFLcOFHcEguL2z0Gy6+n7pOpT/2CEja/S2vVstAm0PChuHShuHShuHSjuCATFjYmfIO2OG79/NMtuyDhDJupS9z9R3DpQ3DpQ3DpQ3BHwixu1bMy+h28e96SNr+NKNRS3DhS3DhS3DhR3BI6KO2+D+YJcT9jVZ7zblEo0oLh1oLh1oLh1oLgjAHE/dM8KKbvs3KPSbr7iHBmvKJp6RuqhuHWguHWguHWguCOwo6hAik5/z1Fpd9+52HyrjSYUtw4Utw4Utw4LVtzd3d3ToqGhwcxxjI1KR2Be3MyrvynbT3+XtDy43PqcVEdTU5OZ49jWphWo4WMuZ1ubRuAEnJubaw54W7tGxGIxKSoqsrZpBdaH9draNAL9iX5F/9raNQL7DfYfW5tW4PjAcWJr0wicgPPz861tWlFRUTFlwnAo7pCAuFHj3nRfeqSNoLh1guLWCYpbJxasuG2ku1QSHA6YDlgq0YGlEh1YKtEB8p4JijsEilsHilsHilsHijsiFLcOFLcOFLcOFLcLxR0Cxa0Dxa0Dxa0DxR0RilsHilsHilsHituF4g6B4taB4taB4taB4o4Ixa0Dxa0Dxa0Dxe1CcYdAcetAcetAcetAcUeE4taB4taB4taB4nahuEOguHWguHWguHVYkOKOxzvl7LMukBNPOE2WLFkqk5OTUy3HkpWVY54TDPwdjIyMyqUZV1rbkoXi1oHi1oHi1oHidgkVNyQNWUOw/t+Toby82ogawgY4ASxatPjo47lAcetAcetAcetAcbuEihuyzXDki58AMk6UdXt42TWe75HsaxNBcetAcetAcetAcbuEijuYNQcfh4GsPChp/G3VymhfqEtx60Bx60Bx60BxuyQUt1/AyZQ7bNk2gLT99e25ZN8Utw4Utw4Utw4Ut0tKxW3LyvF6LMfLuIOPbWBnqKmpOSYqKytlzZo1Zp7sdERpaakR97p166ztGoGTRE5OjrVNK/Ly8swcx7Y2jcBBkJmZaeZytrVrRHFxsZnL3damFVgf1mtr0wj0J/oV/Wtr1wjsN9h/bG1ageMDx4mtTSOQLGZnZ1vbtKKgoGDKhOGktFSSbElkpmWNj49Pi/b2diksLJSJiYm0RFdXlxF3OtfZ19dnTlC2Nq1ABhOPx61tGoH3sqSkxHnvR6ztGoFPa7W1tdY2rcD6sF5bm0agP9Gv6F9bu0Zgv8H+Y2vTChwfOE5sbRoxMDAgZWVl1jatSObTYcKLk/4MO5iBB/Ey6WRGnsy0LBsslejAUokOLJXowFKJS6i4/SJORsoQPETvjULxwN/9dW/vcTKC90Nx60Bx60Bx60Bxu4SKG0DCthtwPJF7MgZ4rn/4oB9P1t7FybmMMKG4daC4daC4daC4XRKKez5BcetAcetAcetAcbtQ3CFQ3DpQ3DpQ3DpQ3BGhuHWguHWguHWguF0o7hAobh0obh0obh0o7ohQ3DpQ3DpQ3DpQ3C4UdwgUtw4Utw4Utw4Ud0Qobh0obh0obh0obheKOwSKWweKWweKWweKOyIUtw4Utw4Utw4UtwvFHQLFrQPFrQPFrQPFHRGKWweKWweKWweK22Veits/nasXnNZVJ3AgcFrX1AenddUJTuvqMi/FjbM4v0ghPcEvUtAJfpGCTvCLFFxYKgmBpRIdWCrRgaUSHVgqiQjFrQPFrQPFrQPF7UJxh0Bx60Bx60Bx60BxR4Ti1oHi1oHi1oHidqG4Q6C4daC4daC4daC4I0Jx60Bx60Bx60Bxu1DcIVDcOlDcOlDcOlDcEaG4daC4daC4daC4XSjuEChuHShuHShuHSjuiFDcOlDcOlDcOlDcLgnFHY93ytlnXSAnnnCaLFmyVCYnJ6dapjMyMiqXZlxpnosoL6+eapnehsjKyplqTQ6KWweKWweKWweK2yVU3JA0ZA3B+n+34bWvWrnaPIbwMxxR46f3eNGixUbgc4Xi1oHi1oHi1oHidgkVd1C+yKDDsu6ZxJzotclCcetAcetAcetAcbuEihuyRXnDk3HwsR9k4onEjHYvG58rFLcOFLcOFLcOFLdLQnH7ZZwoq/bEjLDVuP1/R8wl+6a4daC4daC4daC4XVImbr+s8RMXNfEavB7L8TLu4GMb3d3d06KhocHMcYyNSkdgXlyIOzc319quEU1NTWaOY1ubVuDEhLmcbW0agRMw+hQHvK1dI2KxmBQVFVnbtALrw3ptbRqB/kS/on9t7RqB/Qb7j61NK3B84DixtWkETsD5+fnWNq2oqKiYMmE4KqUST874u41EywIUt71dIyhunaC4dYLidkl4cdKfYUO2fjn7CbZ54sbfbSRaVhgsleiAA56lktTDUokOLJW4hIrbnzX7f7cBuSOD9kSNn15GHWzzHoctKwyKWweKWweKWweK2yVU3ABZt+0GHFtG7QkZz/Xq2x7+NkSi+nYYFLcOFLcOFLcOFLdLQnHPJyhuHShuHShuHShuF4o7BIpbB4pbB4pbB4o7IhS3DhS3DhS3DhS3C8UdAsWtA8WtA8WtA8UdEYpbB4pbB4pbB4rbheIOgeLWgeLWgeLWgeKOCMWtA8WtA8WtA8XtQnGHQHHrQHHrQHHrQHFHhOLWgeLWgeLWgeJ2obhDoLh1oLh1oLh1oLgjQnHrQHHrQHHrQHG7UNwhUNw6UNw6UNw6UNyzADtDTU3NMVFZWSlr1qwx82SnI0pLS424161bZ23XCJwkcnJyrG1akZeXZ+Y4trVpBA6CzMxMM5ezrV0jiouLzVzutjatwPqwXlubRqA/0a/oX1u7RmC/wf5ja9MKHB84TmxtGoFkMTs729qmFQUFBVMmDGdeint8fHxatLe3S2FhoUxMTKQlurq6jLjTuc6+vj5zgrK1aQUymHg8bm3TCLyXJSUlMjIyYm3XCHxaq62ttbZpBdaH9draNAL9iX5F/9raNQL7DfYfW5tW4PjAcWJr04iBgQEpKyuztmlFMp8OWSoJgaUSHVgq0YGlEh1YKokIxa0Dxa0Dxa0Dxe1CcYdAcetAcetAcetAcUeE4taB4taB4taB4nahuEOguHWguHWguHWguCNCcetAcetAcetAcbtQ3CFQ3DpQ3DpQ3DpQ3BGhuHWguHWguHWguF0o7hAobh0obh0obh0WpLjj8U45+6wL5MQTTpMlS5bK5OTkVMt0srJyzPO8uDTjShkZGTVt+InH/nY8fzZQ3DpQ3DpQ3DpQ3C6h4oakIWsI1v97GKtWrg5txwlg0aLFR0U+FyhuHShuHShuHShul1BxQ7YZTpaMn6C8vDo06/bEjufYSPTaZKG4daC4daC4daC4XULFDdn6yx3Bx37wN2TUnuSDIBNHRh4FilsHilsHilsHitslobj9WXKicgfavFq4F/7sG9L2t80l+6a4daC4daC4daC4XVIibjwX4vaXVbzHXhnFy7iDj234p3P1gtO66gQOBE7rmvrgtK46wWldXVJSKgniyTnsYuVMy8JZnF+kkJ7gFynoBL9IQSf4RQouCS9O+jNsyDbZEocnbrzGxmyW5cFSiQ4slejAUokOLJW4hIrbnzXPlEHj734R47GXUSPwuydx73HYssKguHWguHWguHWguF1CxQ38Fx39YvZE7s+oIWLv4qO/3g08WXvtcxlhQnHrQHHrQHHrQHG7JBT3fILi1oHi1oHi1oHidqG4Q6C4daC4daC4daC4I0Jx60Bx60Bx60Bxu1DcIVDcOlDcOlDcOlDcEaG4daC4daC4daC4XSjuEChuHShuHShuHSjuiFDcOlDcOlDcOlDcLhR3CBS3DhS3DhS3DhR3RChuHShuHShuHShuF4o7BIpbB4pbB4pbB4o7IhS3DhS3DhS3DhS3C8UdAsWtA8WtA8WtA8U9C7q7u6dFQ0ODbN261fxMR+AgWL9+vRQVFVnbNQLzjmMecFubVmCSeMx1bmvTCvRpLBaztmkE5qrGCdjWphVYH9Zra9MI9Gc691UE9hvsP7Y2rcDxgePE1qYRkDbmVbe1aUUyCeqCEjfC1qYV2DHxLR+2No1oa2szJwxbm1Zg4vampiZrm1Zgx0SmZmvTiJaWFvONNLY2rcD6sF5bm0agP9GvtjatwH6D/cfWphU4PnCc2No0Asc/PGBr04rm5uYpE4azYEol3kalE2RM+KiULkZHR82BkE6wY+KroNIFPspDMAcOHJj6iz6Dg4NJHQypBOvDetMF+hP9ms5SCfYb7D/pBMcHjpN0geMfHkgn+Lq0maC4E0Bxpx6KWweKWweKOyIUtw4Utw4Utw4UtwvFnQCKO/VQ3DpQ3DpQ3BF5M8SNiyDpFjfWmU7eDHFjG9Mt7nT3K9aXbnFjnX/o4sY2plvc6d53ktlvFoy4CSGEuFDchBCywKC4CSFkgUFxE0LIAoPiJoSQBQbFTQghCwyK28Lk5KQsWbJUTjzhNBOrVq6eatEjKyvn6PrOPusCicfTN+vayMioXJpxpZSX645X9dbjbSf6GH2tSTr7FesK7ivBbcZzUoW3nwbfN81txroSvW9ox/Ziu1NFMv2ayn0Jy160aPG0fsP/4K0v1ds4WyhuC3iDvB3FOzhSecAFwbL9O4LGzp8Ib4fUFLfXj/4D0N/PGmB7/OLS7FdPlv7tCe47WC/Wn4p+9pYdfN809yUsC+sLk6S3fans40T9qrEvedsQPOEF+xWPw/ohHVDcAfBmZThvkP9Nww6r9SZ5O6F3cAPvb6k4wGfC2zbslJrrw7JTeUAnQ/DgwrptmVQUsCwc5Ng2rMsvD9s243+KKhgswxOo/33T2pf8Mrv11uXH9KkfT56peJ9n26+pAOtAv2Ibgw7wts0DbdiXUv0/JAvFHcC2U+BNCr6RmngHSpSDLRmwHhwUHR1d6usL7vjpANujnXFj2bFYk/k9uI3BEwdIxf9QuLXEvD6Z/SSZ58wEloF1Ats2ASwf256qPk7Ur8HHqSL3tQKzXbbjHdvt366wfkgXFHcA7HjBNwRvVqoztUSka6fAehCpOLhnAgca1oWfyGqCH3+1wHsGeXsZqmafBoXiba8f/D+pytSSed9SvS/ZloffkaVi21Ilbj/BfsXvmvsStsOWqGHb0rnvJoLiDvBmixs7pD9L1ALLx8GG7UyXuLHDe+vAetHPmgcA+tIvEaxbs2+xLf7t8eTiB+tOl7g19iUsM3h84G8IgP8lHeLW3JfQX7ZSiX+7sb2p3s7ZQHEHsO14tjdSA40DzQZ2Pi9DAjMJIBVgx/cObg+Ng9zDO5iD68T/kaoDPEhw2Vh3UHKp3OZE75vWvhTcJizfSwCAxnsa7Ff8rrkvYZv8x7utn8P2r3RBcQcIvmkAb1jwAEw12BlTvcOHgW3DQe197POH1o6I5foPPqBxkHuEHVhBCaSS4LJt22frh7liEwrA8rX6Ff+//1jAY9t+lMqTRrBftfeloANs/Uxxz0P8O0o63iAsW+tAS4YwAaSS4Dq8fg0egKkk2K9Yt+YnGv9+A4L7Tqr72bY87X0Jy/eLOwj+l1SvP9ivwe1O9b4UFDfAsv3b/WYfsxS3BW9H8LKHVO0QNryd0J+teOEd8NoEDwQtgtuq2a8e6EN/n2puI7YnuE3BbU7lexp839KxL2E5b7a4gea+ZBM3wDq89aWjpJkIipsQQhYYFDchhCwwKG5CCFlgUNyEELLAoLgJIWSBQXETQsiCQuT/AzFZYBWpUnYdAAAAAElFTkSuQmCC)\n",
        "\n",
        "### **replacing the source classification layer by multiple new ones**\n",
        "![replace classification layer.PNG](data:image/png;base64,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)\n",
        "\n",
        "of all the other approachs this method, as expected gave the best result."
      ]
    }
  ]
}